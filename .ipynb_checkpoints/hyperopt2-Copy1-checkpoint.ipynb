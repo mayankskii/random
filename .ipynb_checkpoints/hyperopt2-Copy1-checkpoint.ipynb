{
 "cells": [
  {
   "cell_type": "code",
   "execution_count": 37,
   "metadata": {},
   "outputs": [],
   "source": [
    "import numpy as np\n",
    "import pandas as pd\n",
    "# import pyspark"
   ]
  },
  {
   "cell_type": "code",
   "execution_count": 38,
   "metadata": {},
   "outputs": [],
   "source": [
    "from sklearn.model_selection import cross_validate"
   ]
  },
  {
   "cell_type": "code",
   "execution_count": 39,
   "metadata": {},
   "outputs": [],
   "source": [
    "from hyperopt import fmin, hp, tpe\n",
    "from hyperopt import Trials, STATUS_OK#, SparkTrials"
   ]
  },
  {
   "cell_type": "code",
   "execution_count": 40,
   "metadata": {},
   "outputs": [],
   "source": [
    "from functools import partial"
   ]
  },
  {
   "cell_type": "code",
   "execution_count": 41,
   "metadata": {},
   "outputs": [],
   "source": [
    "import lightgbm as lgbm"
   ]
  },
  {
   "cell_type": "code",
   "execution_count": 397,
   "metadata": {},
   "outputs": [],
   "source": [
    "from sklearn.datasets import load_breast_cancer\n",
    "from sklearn.model_selection import train_test_split"
   ]
  },
  {
   "cell_type": "code",
   "execution_count": 79,
   "metadata": {},
   "outputs": [],
   "source": [
    "data = load_breast_cancer()"
   ]
  },
  {
   "cell_type": "code",
   "execution_count": 95,
   "metadata": {},
   "outputs": [],
   "source": [
    "X_train = pd.DataFrame(data['data'], columns = data['feature_names'])\n",
    "y_train = pd.DataFrame(data['target'], columns = ['target'])"
   ]
  },
  {
   "cell_type": "code",
   "execution_count": 368,
   "metadata": {},
   "outputs": [],
   "source": [
    "X_train, X_test, y_train, y_test = train_test_split(X_train, y_train, test_size=0.3, random_state=42)"
   ]
  },
  {
   "cell_type": "code",
   "execution_count": 215,
   "metadata": {},
   "outputs": [],
   "source": [
    "def format_float(a):\n",
    "    if isinstance(a, float) and (a).is_integer():\n",
    "            return int(a)\n",
    "    else: return a"
   ]
  },
  {
   "cell_type": "code",
   "execution_count": 232,
   "metadata": {},
   "outputs": [],
   "source": [
    "import pickle"
   ]
  },
  {
   "cell_type": "code",
   "execution_count": 238,
   "metadata": {},
   "outputs": [],
   "source": [
    "def objective(space, clf, presets):\n",
    "    params = {k:format_float(v) for k, v in {**space,**presets}.items()}\n",
    "    cv = cross_validate(clf.set_params(**params), X_train, y_train, cv=3, scoring='roc_auc',\n",
    "                        n_jobs=-1, error_score='raise',\n",
    "                        return_train_score=True, return_estimator=True)\n",
    "    \n",
    "    train_gini = np.mean((2*cv['train_score'] - 1))\n",
    "    test_gini = np.mean((2*cv['test_score'] - 1))\n",
    "    \n",
    "    x = np.abs(train_gini - test_gini)\n",
    "    \n",
    "    delta, std = 0.05, 0.0002\n",
    "    f_val = np.piecewise(x, [x < delta, x >= delta], [test_gini, test_gini*(np.exp(-0.5*((x-delta)**2)/std))])\n",
    "    return {'loss': -f_val, 'status': STATUS_OK, 'estimator':cv['estimator']}"
   ]
  },
  {
   "cell_type": "code",
   "execution_count": 239,
   "metadata": {},
   "outputs": [],
   "source": [
    "presets = {\n",
    "        'class_weight': None\n",
    "}\n",
    "\n",
    "space = {\n",
    "    'learning_rate' : hp.loguniform('learning_rate', np.log(0.001), np.log(0.2)),\n",
    "    'num_leaves': hp.quniform('num_leaves', 8, 128, 2),\n",
    "    'n_estimators': hp.quniform('n_estimators', 100, 300, 2),\n",
    "    'max_depth' : hp.quniform('max_depth', 3, 7, 1),\n",
    "    'colsample_bytree': hp.uniform('colsample_bytree', 0.3, 1.0)\n",
    "}\n",
    "assert ~bool(set(presets.keys()) & set(space.keys()))"
   ]
  },
  {
   "cell_type": "code",
   "execution_count": 240,
   "metadata": {},
   "outputs": [],
   "source": [
    "fmin_objective = partial(objective, clf = lgbm.LGBMClassifier(), presets = presets)"
   ]
  },
  {
   "cell_type": "code",
   "execution_count": 241,
   "metadata": {},
   "outputs": [
    {
     "name": "stdout",
     "output_type": "stream",
     "text": [
      "100%|██████████| 32/32 [00:07<00:00,  4.31trial/s, best loss: -0.9899013126377311]\n"
     ]
    }
   ],
   "source": [
    "# spark_trials = SparkTrials()\n",
    "trials = Trials()\n",
    "h_star = fmin(\n",
    "            fn = fmin_objective,\n",
    "            algo = tpe.suggest,\n",
    "            space = space,\n",
    "            max_evals=32,\n",
    "            trials = trials\n",
    "#             trials=spark_trials,\n",
    "            )"
   ]
  },
  {
   "cell_type": "code",
   "execution_count": 242,
   "metadata": {},
   "outputs": [
    {
     "data": {
      "text/plain": [
       "{'colsample_bytree': 0.33248638381508,\n",
       " 'learning_rate': 0.18870632418728417,\n",
       " 'max_depth': 3,\n",
       " 'n_estimators': 298,\n",
       " 'num_leaves': 54}"
      ]
     },
     "execution_count": 242,
     "metadata": {},
     "output_type": "execute_result"
    }
   ],
   "source": [
    "{k:format_float(v) for k, v in h_star.items()}"
   ]
  },
  {
   "cell_type": "code",
   "execution_count": 267,
   "metadata": {},
   "outputs": [],
   "source": [
    "booster = trials.results[np.argmin(np.array(trials.losses()))]['estimator'][0]"
   ]
  },
  {
   "cell_type": "code",
   "execution_count": 398,
   "metadata": {},
   "outputs": [],
   "source": [
    "model = lgbm.LGBMModel().set_params(**booster.get_params())"
   ]
  },
  {
   "cell_type": "code",
   "execution_count": 399,
   "metadata": {},
   "outputs": [
    {
     "data": {
      "text/plain": [
       "LGBMModel(boosting_type='gbdt', class_weight=None,\n",
       "          colsample_bytree=0.33248638381508, importance_type='split',\n",
       "          learning_rate=0.18870632418728417, max_depth=3, min_child_samples=20,\n",
       "          min_child_weight=0.001, min_split_gain=0.0, n_estimators=298,\n",
       "          n_jobs=-1, num_leaves=54, objective='binary', random_state=None,\n",
       "          reg_alpha=0.0, reg_lambda=0.0, silent=True, subsample=1.0,\n",
       "          subsample_for_bin=200000, subsample_freq=0)"
      ]
     },
     "execution_count": 399,
     "metadata": {},
     "output_type": "execute_result"
    }
   ],
   "source": [
    "model.set_params(**{'objective':'binary'})"
   ]
  },
  {
   "cell_type": "code",
   "execution_count": 400,
   "metadata": {},
   "outputs": [
    {
     "name": "stdout",
     "output_type": "stream",
     "text": [
      "[1]\tvalid_0's auc: 0.983539\tvalid_0's binary_logloss: 0.517206\n",
      "Training until validation scores don't improve for 200 rounds\n",
      "[2]\tvalid_0's auc: 0.981628\tvalid_0's binary_logloss: 0.433691\n",
      "[3]\tvalid_0's auc: 0.991329\tvalid_0's binary_logloss: 0.36491\n",
      "[4]\tvalid_0's auc: 0.991108\tvalid_0's binary_logloss: 0.314674\n",
      "[5]\tvalid_0's auc: 0.992063\tvalid_0's binary_logloss: 0.276212\n",
      "[6]\tvalid_0's auc: 0.993974\tvalid_0's binary_logloss: 0.245387\n",
      "[7]\tvalid_0's auc: 0.994121\tvalid_0's binary_logloss: 0.219559\n",
      "[8]\tvalid_0's auc: 0.99221\tvalid_0's binary_logloss: 0.204093\n",
      "[9]\tvalid_0's auc: 0.994709\tvalid_0's binary_logloss: 0.181477\n",
      "[10]\tvalid_0's auc: 0.993827\tvalid_0's binary_logloss: 0.167629\n",
      "[11]\tvalid_0's auc: 0.992651\tvalid_0's binary_logloss: 0.157752\n",
      "[12]\tvalid_0's auc: 0.993533\tvalid_0's binary_logloss: 0.14617\n",
      "[13]\tvalid_0's auc: 0.993827\tvalid_0's binary_logloss: 0.135616\n",
      "[14]\tvalid_0's auc: 0.993386\tvalid_0's binary_logloss: 0.129796\n",
      "[15]\tvalid_0's auc: 0.99368\tvalid_0's binary_logloss: 0.123441\n",
      "[16]\tvalid_0's auc: 0.994268\tvalid_0's binary_logloss: 0.118686\n",
      "[17]\tvalid_0's auc: 0.99515\tvalid_0's binary_logloss: 0.113418\n",
      "[18]\tvalid_0's auc: 0.994856\tvalid_0's binary_logloss: 0.112678\n",
      "[19]\tvalid_0's auc: 0.994709\tvalid_0's binary_logloss: 0.110537\n",
      "[20]\tvalid_0's auc: 0.99515\tvalid_0's binary_logloss: 0.104643\n",
      "[21]\tvalid_0's auc: 0.995003\tvalid_0's binary_logloss: 0.102483\n",
      "[22]\tvalid_0's auc: 0.99515\tvalid_0's binary_logloss: 0.0995268\n",
      "[23]\tvalid_0's auc: 0.994856\tvalid_0's binary_logloss: 0.0991577\n",
      "[24]\tvalid_0's auc: 0.995297\tvalid_0's binary_logloss: 0.0945215\n",
      "[25]\tvalid_0's auc: 0.995297\tvalid_0's binary_logloss: 0.0929123\n",
      "[26]\tvalid_0's auc: 0.995003\tvalid_0's binary_logloss: 0.0918648\n",
      "[27]\tvalid_0's auc: 0.995297\tvalid_0's binary_logloss: 0.0901173\n",
      "[28]\tvalid_0's auc: 0.995885\tvalid_0's binary_logloss: 0.0876079\n",
      "[29]\tvalid_0's auc: 0.995738\tvalid_0's binary_logloss: 0.0885023\n",
      "[30]\tvalid_0's auc: 0.995885\tvalid_0's binary_logloss: 0.087619\n",
      "[31]\tvalid_0's auc: 0.996326\tvalid_0's binary_logloss: 0.0841882\n",
      "[32]\tvalid_0's auc: 0.996179\tvalid_0's binary_logloss: 0.0826384\n",
      "[33]\tvalid_0's auc: 0.996326\tvalid_0's binary_logloss: 0.0798949\n",
      "[34]\tvalid_0's auc: 0.996473\tvalid_0's binary_logloss: 0.0796975\n",
      "[35]\tvalid_0's auc: 0.99662\tvalid_0's binary_logloss: 0.0786757\n",
      "[36]\tvalid_0's auc: 0.996473\tvalid_0's binary_logloss: 0.0768775\n",
      "[37]\tvalid_0's auc: 0.996767\tvalid_0's binary_logloss: 0.0750854\n",
      "[38]\tvalid_0's auc: 0.99662\tvalid_0's binary_logloss: 0.0739419\n",
      "[39]\tvalid_0's auc: 0.996767\tvalid_0's binary_logloss: 0.0726233\n",
      "[40]\tvalid_0's auc: 0.996473\tvalid_0's binary_logloss: 0.0738958\n",
      "[41]\tvalid_0's auc: 0.996914\tvalid_0's binary_logloss: 0.0742144\n",
      "[42]\tvalid_0's auc: 0.996767\tvalid_0's binary_logloss: 0.0763235\n",
      "[43]\tvalid_0's auc: 0.996326\tvalid_0's binary_logloss: 0.0780955\n",
      "[44]\tvalid_0's auc: 0.996179\tvalid_0's binary_logloss: 0.0790413\n",
      "[45]\tvalid_0's auc: 0.996179\tvalid_0's binary_logloss: 0.0801415\n",
      "[46]\tvalid_0's auc: 0.996032\tvalid_0's binary_logloss: 0.0810604\n",
      "[47]\tvalid_0's auc: 0.996179\tvalid_0's binary_logloss: 0.0808232\n",
      "[48]\tvalid_0's auc: 0.996179\tvalid_0's binary_logloss: 0.0816385\n",
      "[49]\tvalid_0's auc: 0.996326\tvalid_0's binary_logloss: 0.0816876\n",
      "[50]\tvalid_0's auc: 0.996473\tvalid_0's binary_logloss: 0.0799008\n",
      "[51]\tvalid_0's auc: 0.996473\tvalid_0's binary_logloss: 0.0778576\n",
      "[52]\tvalid_0's auc: 0.996179\tvalid_0's binary_logloss: 0.0802193\n",
      "[53]\tvalid_0's auc: 0.996326\tvalid_0's binary_logloss: 0.0799183\n",
      "[54]\tvalid_0's auc: 0.996326\tvalid_0's binary_logloss: 0.0836215\n",
      "[55]\tvalid_0's auc: 0.996032\tvalid_0's binary_logloss: 0.0870175\n",
      "[56]\tvalid_0's auc: 0.996032\tvalid_0's binary_logloss: 0.0861486\n",
      "[57]\tvalid_0's auc: 0.996179\tvalid_0's binary_logloss: 0.0853904\n",
      "[58]\tvalid_0's auc: 0.996179\tvalid_0's binary_logloss: 0.0840332\n",
      "[59]\tvalid_0's auc: 0.996179\tvalid_0's binary_logloss: 0.0858584\n",
      "[60]\tvalid_0's auc: 0.996179\tvalid_0's binary_logloss: 0.0865407\n",
      "[61]\tvalid_0's auc: 0.996326\tvalid_0's binary_logloss: 0.0865903\n",
      "[62]\tvalid_0's auc: 0.996179\tvalid_0's binary_logloss: 0.0883848\n",
      "[63]\tvalid_0's auc: 0.996179\tvalid_0's binary_logloss: 0.0893176\n",
      "[64]\tvalid_0's auc: 0.996179\tvalid_0's binary_logloss: 0.0896136\n",
      "[65]\tvalid_0's auc: 0.996326\tvalid_0's binary_logloss: 0.0889303\n",
      "[66]\tvalid_0's auc: 0.996326\tvalid_0's binary_logloss: 0.0856031\n",
      "[67]\tvalid_0's auc: 0.996326\tvalid_0's binary_logloss: 0.0870712\n",
      "[68]\tvalid_0's auc: 0.996326\tvalid_0's binary_logloss: 0.0880044\n",
      "[69]\tvalid_0's auc: 0.996326\tvalid_0's binary_logloss: 0.0889707\n",
      "[70]\tvalid_0's auc: 0.996326\tvalid_0's binary_logloss: 0.0896025\n",
      "[71]\tvalid_0's auc: 0.996326\tvalid_0's binary_logloss: 0.0894798\n",
      "[72]\tvalid_0's auc: 0.996473\tvalid_0's binary_logloss: 0.0862119\n",
      "[73]\tvalid_0's auc: 0.996473\tvalid_0's binary_logloss: 0.0834684\n",
      "[74]\tvalid_0's auc: 0.996473\tvalid_0's binary_logloss: 0.0826351\n",
      "[75]\tvalid_0's auc: 0.99662\tvalid_0's binary_logloss: 0.0823441\n",
      "[76]\tvalid_0's auc: 0.99662\tvalid_0's binary_logloss: 0.0830678\n",
      "[77]\tvalid_0's auc: 0.99662\tvalid_0's binary_logloss: 0.0814885\n",
      "[78]\tvalid_0's auc: 0.99662\tvalid_0's binary_logloss: 0.083861\n",
      "[79]\tvalid_0's auc: 0.996767\tvalid_0's binary_logloss: 0.0854503\n",
      "[80]\tvalid_0's auc: 0.99662\tvalid_0's binary_logloss: 0.0873586\n",
      "[81]\tvalid_0's auc: 0.996767\tvalid_0's binary_logloss: 0.087655\n",
      "[82]\tvalid_0's auc: 0.99662\tvalid_0's binary_logloss: 0.0894706\n",
      "[83]\tvalid_0's auc: 0.99662\tvalid_0's binary_logloss: 0.0922024\n",
      "[84]\tvalid_0's auc: 0.996473\tvalid_0's binary_logloss: 0.0945307\n",
      "[85]\tvalid_0's auc: 0.996473\tvalid_0's binary_logloss: 0.095125\n",
      "[86]\tvalid_0's auc: 0.99662\tvalid_0's binary_logloss: 0.0942938\n",
      "[87]\tvalid_0's auc: 0.996473\tvalid_0's binary_logloss: 0.0959268\n",
      "[88]\tvalid_0's auc: 0.996473\tvalid_0's binary_logloss: 0.093503\n",
      "[89]\tvalid_0's auc: 0.99662\tvalid_0's binary_logloss: 0.0939119\n",
      "[90]\tvalid_0's auc: 0.99662\tvalid_0's binary_logloss: 0.0945512\n",
      "[91]\tvalid_0's auc: 0.99662\tvalid_0's binary_logloss: 0.095438\n",
      "[92]\tvalid_0's auc: 0.996914\tvalid_0's binary_logloss: 0.0934977\n",
      "[93]\tvalid_0's auc: 0.996914\tvalid_0's binary_logloss: 0.0942345\n",
      "[94]\tvalid_0's auc: 0.99662\tvalid_0's binary_logloss: 0.0968858\n",
      "[95]\tvalid_0's auc: 0.99662\tvalid_0's binary_logloss: 0.100514\n",
      "[96]\tvalid_0's auc: 0.99662\tvalid_0's binary_logloss: 0.100007\n",
      "[97]\tvalid_0's auc: 0.99662\tvalid_0's binary_logloss: 0.100738\n",
      "[98]\tvalid_0's auc: 0.99662\tvalid_0's binary_logloss: 0.0994831\n",
      "[99]\tvalid_0's auc: 0.996767\tvalid_0's binary_logloss: 0.0998911\n",
      "[100]\tvalid_0's auc: 0.99662\tvalid_0's binary_logloss: 0.101177\n",
      "[101]\tvalid_0's auc: 0.99662\tvalid_0's binary_logloss: 0.102306\n",
      "[102]\tvalid_0's auc: 0.99662\tvalid_0's binary_logloss: 0.103255\n",
      "[103]\tvalid_0's auc: 0.996767\tvalid_0's binary_logloss: 0.103992\n",
      "[104]\tvalid_0's auc: 0.996767\tvalid_0's binary_logloss: 0.103658\n",
      "[105]\tvalid_0's auc: 0.99662\tvalid_0's binary_logloss: 0.103765\n",
      "[106]\tvalid_0's auc: 0.996767\tvalid_0's binary_logloss: 0.101538\n",
      "[107]\tvalid_0's auc: 0.996767\tvalid_0's binary_logloss: 0.10188\n",
      "[108]\tvalid_0's auc: 0.996767\tvalid_0's binary_logloss: 0.100099\n",
      "[109]\tvalid_0's auc: 0.996767\tvalid_0's binary_logloss: 0.100723\n",
      "[110]\tvalid_0's auc: 0.996767\tvalid_0's binary_logloss: 0.0999337\n",
      "[111]\tvalid_0's auc: 0.996767\tvalid_0's binary_logloss: 0.100718\n",
      "[112]\tvalid_0's auc: 0.996767\tvalid_0's binary_logloss: 0.10187\n",
      "[113]\tvalid_0's auc: 0.996767\tvalid_0's binary_logloss: 0.102289\n",
      "[114]\tvalid_0's auc: 0.996767\tvalid_0's binary_logloss: 0.103239\n",
      "[115]\tvalid_0's auc: 0.996767\tvalid_0's binary_logloss: 0.104283\n",
      "[116]\tvalid_0's auc: 0.996767\tvalid_0's binary_logloss: 0.105073\n",
      "[117]\tvalid_0's auc: 0.996767\tvalid_0's binary_logloss: 0.105671\n",
      "[118]\tvalid_0's auc: 0.996767\tvalid_0's binary_logloss: 0.107045\n",
      "[119]\tvalid_0's auc: 0.996767\tvalid_0's binary_logloss: 0.106147\n",
      "[120]\tvalid_0's auc: 0.996767\tvalid_0's binary_logloss: 0.107946\n",
      "[121]\tvalid_0's auc: 0.996767\tvalid_0's binary_logloss: 0.104524\n",
      "[122]\tvalid_0's auc: 0.996767\tvalid_0's binary_logloss: 0.105698\n",
      "[123]\tvalid_0's auc: 0.996767\tvalid_0's binary_logloss: 0.106131\n",
      "[124]\tvalid_0's auc: 0.996767\tvalid_0's binary_logloss: 0.107229\n",
      "[125]\tvalid_0's auc: 0.996767\tvalid_0's binary_logloss: 0.107034\n",
      "[126]\tvalid_0's auc: 0.996767\tvalid_0's binary_logloss: 0.10769\n",
      "[127]\tvalid_0's auc: 0.996767\tvalid_0's binary_logloss: 0.109638\n",
      "[128]\tvalid_0's auc: 0.996767\tvalid_0's binary_logloss: 0.110147\n",
      "[129]\tvalid_0's auc: 0.996767\tvalid_0's binary_logloss: 0.110225\n",
      "[130]\tvalid_0's auc: 0.99662\tvalid_0's binary_logloss: 0.112583\n",
      "[131]\tvalid_0's auc: 0.996473\tvalid_0's binary_logloss: 0.110623\n",
      "[132]\tvalid_0's auc: 0.996767\tvalid_0's binary_logloss: 0.110397\n",
      "[133]\tvalid_0's auc: 0.996473\tvalid_0's binary_logloss: 0.112576\n",
      "[134]\tvalid_0's auc: 0.996473\tvalid_0's binary_logloss: 0.111519\n",
      "[135]\tvalid_0's auc: 0.996326\tvalid_0's binary_logloss: 0.113549\n",
      "[136]\tvalid_0's auc: 0.996473\tvalid_0's binary_logloss: 0.113574\n",
      "[137]\tvalid_0's auc: 0.99662\tvalid_0's binary_logloss: 0.110933\n",
      "[138]\tvalid_0's auc: 0.99662\tvalid_0's binary_logloss: 0.110405\n",
      "[139]\tvalid_0's auc: 0.996473\tvalid_0's binary_logloss: 0.112661\n",
      "[140]\tvalid_0's auc: 0.99662\tvalid_0's binary_logloss: 0.112147\n",
      "[141]\tvalid_0's auc: 0.996473\tvalid_0's binary_logloss: 0.114394\n",
      "[142]\tvalid_0's auc: 0.996326\tvalid_0's binary_logloss: 0.116383\n",
      "[143]\tvalid_0's auc: 0.996326\tvalid_0's binary_logloss: 0.114608\n",
      "[144]\tvalid_0's auc: 0.996326\tvalid_0's binary_logloss: 0.116846\n",
      "[145]\tvalid_0's auc: 0.996326\tvalid_0's binary_logloss: 0.117053\n",
      "[146]\tvalid_0's auc: 0.996473\tvalid_0's binary_logloss: 0.116606\n",
      "[147]\tvalid_0's auc: 0.99662\tvalid_0's binary_logloss: 0.11596\n",
      "[148]\tvalid_0's auc: 0.99662\tvalid_0's binary_logloss: 0.117829\n",
      "[149]\tvalid_0's auc: 0.99662\tvalid_0's binary_logloss: 0.118128\n",
      "[150]\tvalid_0's auc: 0.99662\tvalid_0's binary_logloss: 0.118796\n",
      "[151]\tvalid_0's auc: 0.99662\tvalid_0's binary_logloss: 0.119142\n",
      "[152]\tvalid_0's auc: 0.99662\tvalid_0's binary_logloss: 0.117975\n",
      "[153]\tvalid_0's auc: 0.99662\tvalid_0's binary_logloss: 0.115815\n",
      "[154]\tvalid_0's auc: 0.99662\tvalid_0's binary_logloss: 0.115828\n",
      "[155]\tvalid_0's auc: 0.99662\tvalid_0's binary_logloss: 0.11693\n",
      "[156]\tvalid_0's auc: 0.99662\tvalid_0's binary_logloss: 0.117004\n",
      "[157]\tvalid_0's auc: 0.99662\tvalid_0's binary_logloss: 0.116783\n",
      "[158]\tvalid_0's auc: 0.99662\tvalid_0's binary_logloss: 0.117704\n",
      "[159]\tvalid_0's auc: 0.99662\tvalid_0's binary_logloss: 0.117745\n",
      "[160]\tvalid_0's auc: 0.99662\tvalid_0's binary_logloss: 0.1178\n",
      "[161]\tvalid_0's auc: 0.99662\tvalid_0's binary_logloss: 0.117599\n",
      "[162]\tvalid_0's auc: 0.99662\tvalid_0's binary_logloss: 0.118003\n",
      "[163]\tvalid_0's auc: 0.99662\tvalid_0's binary_logloss: 0.119403\n",
      "[164]\tvalid_0's auc: 0.99662\tvalid_0's binary_logloss: 0.119563\n",
      "[165]\tvalid_0's auc: 0.99662\tvalid_0's binary_logloss: 0.120307\n",
      "[166]\tvalid_0's auc: 0.99662\tvalid_0's binary_logloss: 0.119119\n",
      "[167]\tvalid_0's auc: 0.99662\tvalid_0's binary_logloss: 0.119095\n",
      "[168]\tvalid_0's auc: 0.99662\tvalid_0's binary_logloss: 0.118815\n",
      "[169]\tvalid_0's auc: 0.99662\tvalid_0's binary_logloss: 0.117588\n",
      "[170]\tvalid_0's auc: 0.99662\tvalid_0's binary_logloss: 0.117671\n",
      "[171]\tvalid_0's auc: 0.99662\tvalid_0's binary_logloss: 0.117254\n",
      "[172]\tvalid_0's auc: 0.99662\tvalid_0's binary_logloss: 0.117943\n",
      "[173]\tvalid_0's auc: 0.99662\tvalid_0's binary_logloss: 0.118088\n",
      "[174]\tvalid_0's auc: 0.99662\tvalid_0's binary_logloss: 0.11858\n",
      "[175]\tvalid_0's auc: 0.99662\tvalid_0's binary_logloss: 0.117525\n",
      "[176]\tvalid_0's auc: 0.99662\tvalid_0's binary_logloss: 0.117072\n",
      "[177]\tvalid_0's auc: 0.996767\tvalid_0's binary_logloss: 0.117712\n",
      "[178]\tvalid_0's auc: 0.996767\tvalid_0's binary_logloss: 0.117066\n",
      "[179]\tvalid_0's auc: 0.996767\tvalid_0's binary_logloss: 0.117218\n",
      "[180]\tvalid_0's auc: 0.996767\tvalid_0's binary_logloss: 0.116978\n",
      "[181]\tvalid_0's auc: 0.996767\tvalid_0's binary_logloss: 0.117191\n",
      "[182]\tvalid_0's auc: 0.996767\tvalid_0's binary_logloss: 0.117247\n",
      "[183]\tvalid_0's auc: 0.996767\tvalid_0's binary_logloss: 0.117294\n",
      "[184]\tvalid_0's auc: 0.996767\tvalid_0's binary_logloss: 0.116658\n",
      "[185]\tvalid_0's auc: 0.996767\tvalid_0's binary_logloss: 0.116447\n",
      "[186]\tvalid_0's auc: 0.99662\tvalid_0's binary_logloss: 0.116616\n",
      "[187]\tvalid_0's auc: 0.996767\tvalid_0's binary_logloss: 0.116817\n",
      "[188]\tvalid_0's auc: 0.99662\tvalid_0's binary_logloss: 0.116628\n",
      "[189]\tvalid_0's auc: 0.996767\tvalid_0's binary_logloss: 0.117264\n",
      "[190]\tvalid_0's auc: 0.996767\tvalid_0's binary_logloss: 0.117447\n",
      "[191]\tvalid_0's auc: 0.996767\tvalid_0's binary_logloss: 0.117349\n",
      "[192]\tvalid_0's auc: 0.996767\tvalid_0's binary_logloss: 0.1174\n",
      "[193]\tvalid_0's auc: 0.996767\tvalid_0's binary_logloss: 0.117452\n",
      "[194]\tvalid_0's auc: 0.99662\tvalid_0's binary_logloss: 0.117613\n",
      "[195]\tvalid_0's auc: 0.996767\tvalid_0's binary_logloss: 0.117798\n",
      "[196]\tvalid_0's auc: 0.996767\tvalid_0's binary_logloss: 0.117248\n",
      "[197]\tvalid_0's auc: 0.996767\tvalid_0's binary_logloss: 0.117054\n",
      "[198]\tvalid_0's auc: 0.996767\tvalid_0's binary_logloss: 0.116309\n",
      "[199]\tvalid_0's auc: 0.996767\tvalid_0's binary_logloss: 0.116876\n",
      "[200]\tvalid_0's auc: 0.996767\tvalid_0's binary_logloss: 0.117041\n",
      "[201]\tvalid_0's auc: 0.996767\tvalid_0's binary_logloss: 0.117098\n",
      "[202]\tvalid_0's auc: 0.99662\tvalid_0's binary_logloss: 0.116756\n",
      "[203]\tvalid_0's auc: 0.996767\tvalid_0's binary_logloss: 0.117112\n",
      "[204]\tvalid_0's auc: 0.996767\tvalid_0's binary_logloss: 0.116148\n",
      "[205]\tvalid_0's auc: 0.996767\tvalid_0's binary_logloss: 0.116691\n",
      "[206]\tvalid_0's auc: 0.99662\tvalid_0's binary_logloss: 0.116674\n",
      "[207]\tvalid_0's auc: 0.99662\tvalid_0's binary_logloss: 0.115861\n",
      "[208]\tvalid_0's auc: 0.99662\tvalid_0's binary_logloss: 0.115913\n",
      "[209]\tvalid_0's auc: 0.996767\tvalid_0's binary_logloss: 0.11622\n",
      "[210]\tvalid_0's auc: 0.99662\tvalid_0's binary_logloss: 0.115951\n",
      "[211]\tvalid_0's auc: 0.99662\tvalid_0's binary_logloss: 0.11565\n",
      "[212]\tvalid_0's auc: 0.99662\tvalid_0's binary_logloss: 0.115811\n",
      "[213]\tvalid_0's auc: 0.99662\tvalid_0's binary_logloss: 0.115986\n",
      "[214]\tvalid_0's auc: 0.99662\tvalid_0's binary_logloss: 0.116142\n",
      "[215]\tvalid_0's auc: 0.99662\tvalid_0's binary_logloss: 0.11573\n",
      "[216]\tvalid_0's auc: 0.99662\tvalid_0's binary_logloss: 0.115455\n",
      "[217]\tvalid_0's auc: 0.99662\tvalid_0's binary_logloss: 0.115062\n",
      "[218]\tvalid_0's auc: 0.99662\tvalid_0's binary_logloss: 0.115111\n",
      "[219]\tvalid_0's auc: 0.99662\tvalid_0's binary_logloss: 0.115176\n",
      "[220]\tvalid_0's auc: 0.99662\tvalid_0's binary_logloss: 0.115236\n",
      "[221]\tvalid_0's auc: 0.99662\tvalid_0's binary_logloss: 0.115797\n",
      "[222]\tvalid_0's auc: 0.99662\tvalid_0's binary_logloss: 0.115845\n",
      "[223]\tvalid_0's auc: 0.99662\tvalid_0's binary_logloss: 0.1163\n",
      "[224]\tvalid_0's auc: 0.99662\tvalid_0's binary_logloss: 0.115928\n",
      "[225]\tvalid_0's auc: 0.99662\tvalid_0's binary_logloss: 0.115994\n",
      "[226]\tvalid_0's auc: 0.99662\tvalid_0's binary_logloss: 0.116039\n",
      "[227]\tvalid_0's auc: 0.99662\tvalid_0's binary_logloss: 0.115346\n",
      "[228]\tvalid_0's auc: 0.99662\tvalid_0's binary_logloss: 0.115108\n",
      "[229]\tvalid_0's auc: 0.99662\tvalid_0's binary_logloss: 0.115171\n",
      "[230]\tvalid_0's auc: 0.99662\tvalid_0's binary_logloss: 0.115303\n",
      "[231]\tvalid_0's auc: 0.99662\tvalid_0's binary_logloss: 0.11512\n",
      "[232]\tvalid_0's auc: 0.99662\tvalid_0's binary_logloss: 0.115329\n",
      "[233]\tvalid_0's auc: 0.99662\tvalid_0's binary_logloss: 0.114716\n",
      "[234]\tvalid_0's auc: 0.99662\tvalid_0's binary_logloss: 0.114502\n",
      "[235]\tvalid_0's auc: 0.99662\tvalid_0's binary_logloss: 0.114352\n",
      "[236]\tvalid_0's auc: 0.99662\tvalid_0's binary_logloss: 0.11461\n",
      "[237]\tvalid_0's auc: 0.99662\tvalid_0's binary_logloss: 0.114736\n",
      "[238]\tvalid_0's auc: 0.99662\tvalid_0's binary_logloss: 0.11458\n",
      "[239]\tvalid_0's auc: 0.99662\tvalid_0's binary_logloss: 0.114703\n",
      "Early stopping, best iteration is:\n",
      "[39]\tvalid_0's auc: 0.996767\tvalid_0's binary_logloss: 0.0726233\n"
     ]
    },
    {
     "data": {
      "text/plain": [
       "LGBMModel(boosting_type='gbdt', class_weight=None,\n",
       "          colsample_bytree=0.33248638381508, importance_type='split',\n",
       "          learning_rate=0.18870632418728417, max_depth=3, min_child_samples=20,\n",
       "          min_child_weight=0.001, min_split_gain=0.0, n_estimators=298,\n",
       "          n_jobs=-1, num_leaves=54, objective='binary', random_state=None,\n",
       "          reg_alpha=0.0, reg_lambda=0.0, silent=True, subsample=1.0,\n",
       "          subsample_for_bin=200000, subsample_freq=0)"
      ]
     },
     "execution_count": 400,
     "metadata": {},
     "output_type": "execute_result"
    }
   ],
   "source": [
    "model.fit(X_train, np.ravel(y_train.values), eval_metric='auc', early_stopping_rounds=200,\\\n",
    "          eval_set = (X_test, y_test))"
   ]
  },
  {
   "cell_type": "code",
   "execution_count": 361,
   "metadata": {},
   "outputs": [
    {
     "data": {
      "text/plain": [
       "<matplotlib.axes._subplots.AxesSubplot at 0x1a1d611190>"
      ]
     },
     "execution_count": 361,
     "metadata": {},
     "output_type": "execute_result"
    },
    {
     "data": {
      "image/png": "[encoded data removed]",
      "text/plain": [
       "<Figure size 1152x648 with 1 Axes>"
      ]
     },
     "metadata": {
      "needs_background": "light"
     },
     "output_type": "display_data"
    }
   ],
   "source": [
    "lgbm.plot_importance(model , figsize = (16,9))"
   ]
  },
  {
   "cell_type": "code",
   "execution_count": 403,
   "metadata": {},
   "outputs": [
    {
     "data": {
      "text/plain": [
       "<matplotlib.axes._subplots.AxesSubplot at 0x1a1d988090>"
      ]
     },
     "execution_count": 403,
     "metadata": {},
     "output_type": "execute_result"
    },
    {
     "data": {
      "image/png": "[encoded data removed]",
      "text/plain": [
       "<Figure size 432x288 with 1 Axes>"
      ]
     },
     "metadata": {
      "needs_background": "light"
     },
     "output_type": "display_data"
    }
   ],
   "source": [
    "lgbm.plot_metric(model.evals_result_,'auc')"
   ]
  },
  {
   "cell_type": "code",
   "execution_count": 297,
   "metadata": {},
   "outputs": [
    {
     "data": {
      "image/svg+xml": [
       "<?xml version=\"1.0\" encoding=\"UTF-8\" standalone=\"no\"?>\n",
       "<!DOCTYPE svg PUBLIC \"-//W3C//DTD SVG 1.1//EN\"\n",
       " \"http://www.w3.org/Graphics/SVG/1.1/DTD/svg11.dtd\">\n",
       "<!-- Generated by graphviz version 2.40.1 (20161225.0304)\n",
       " -->\n",
       "<!-- Title: %3 Pages: 1 -->\n",
       "<svg width=\"778pt\" height=\"244pt\"\n",
       " viewBox=\"0.00 0.00 778.09 244.00\" xmlns=\"http://www.w3.org/2000/svg\" xmlns:xlink=\"http://www.w3.org/1999/xlink\">\n",
       "<g id=\"graph0\" class=\"graph\" transform=\"scale(1 1) rotate(0) translate(4 240)\">\n",
       "<title>%3</title>\n",
       "<polygon fill=\"#ffffff\" stroke=\"transparent\" points=\"-4,4 -4,-240 774.09,-240 774.09,4 -4,4\"/>\n",
       "<!-- split0 -->\n",
       "<g id=\"node1\" class=\"node\">\n",
       "<title>split0</title>\n",
       "<polygon fill=\"none\" stroke=\"#000000\" points=\"144,-136 0,-136 0,-100 144,-100 144,-136\"/>\n",
       "<text text-anchor=\"start\" x=\"8\" y=\"-115.3\" font-family=\"Times,serif\" font-weight=\"bold\" font-size=\"14.00\" fill=\"#000000\">worst_area</text>\n",
       "<text text-anchor=\"start\" x=\"75\" y=\"-115.3\" font-family=\"Times,serif\" font-size=\"14.00\" fill=\"#000000\"> ≤ </text>\n",
       "<text text-anchor=\"start\" x=\"90\" y=\"-115.3\" font-family=\"Times,serif\" font-weight=\"bold\" font-size=\"14.00\" fill=\"#000000\">868.200</text>\n",
       "</g>\n",
       "<!-- split1 -->\n",
       "<g id=\"node2\" class=\"node\">\n",
       "<title>split1</title>\n",
       "<polygon fill=\"none\" stroke=\"#000000\" points=\"380,-156 185,-156 185,-120 380,-120 380,-156\"/>\n",
       "<text text-anchor=\"start\" x=\"193\" y=\"-135.3\" font-family=\"Times,serif\" font-weight=\"bold\" font-size=\"14.00\" fill=\"#000000\">worst_concave_points</text>\n",
       "<text text-anchor=\"start\" x=\"325\" y=\"-135.3\" font-family=\"Times,serif\" font-size=\"14.00\" fill=\"#000000\"> ≤ </text>\n",
       "<text text-anchor=\"start\" x=\"340\" y=\"-135.3\" font-family=\"Times,serif\" font-weight=\"bold\" font-size=\"14.00\" fill=\"#000000\">0.136</text>\n",
       "</g>\n",
       "<!-- split0&#45;&gt;split1 -->\n",
       "<g id=\"edge7\" class=\"edge\">\n",
       "<title>split0&#45;&gt;split1</title>\n",
       "<path fill=\"none\" stroke=\"#000000\" d=\"M144.1477,-124.8549C154.0686,-125.7975 164.4265,-126.7816 174.816,-127.7687\"/>\n",
       "<polygon fill=\"#000000\" stroke=\"#000000\" points=\"174.4873,-131.2532 184.7736,-128.7148 175.1495,-124.2846 174.4873,-131.2532\"/>\n",
       "<text text-anchor=\"middle\" x=\"164.5\" y=\"-130.8\" font-family=\"Times,serif\" font-size=\"14.00\" fill=\"#000000\">yes</text>\n",
       "</g>\n",
       "<!-- split3 -->\n",
       "<g id=\"node9\" class=\"node\">\n",
       "<title>split3</title>\n",
       "<polygon fill=\"none\" stroke=\"#000000\" points=\"363,-116 202,-116 202,-80 363,-80 363,-116\"/>\n",
       "<text text-anchor=\"start\" x=\"210\" y=\"-95.3\" font-family=\"Times,serif\" font-weight=\"bold\" font-size=\"14.00\" fill=\"#000000\">worst_concavity</text>\n",
       "<text text-anchor=\"start\" x=\"308\" y=\"-95.3\" font-family=\"Times,serif\" font-size=\"14.00\" fill=\"#000000\"> ≤ </text>\n",
       "<text text-anchor=\"start\" x=\"323\" y=\"-95.3\" font-family=\"Times,serif\" font-weight=\"bold\" font-size=\"14.00\" fill=\"#000000\">0.241</text>\n",
       "</g>\n",
       "<!-- split0&#45;&gt;split3 -->\n",
       "<g id=\"edge12\" class=\"edge\">\n",
       "<title>split0&#45;&gt;split3</title>\n",
       "<path fill=\"none\" stroke=\"#000000\" d=\"M144.4265,-111.0095C148.0016,-110.6674 151.5413,-110.3294 155,-110 166.8446,-108.8718 179.3089,-107.6909 191.6161,-106.5286\"/>\n",
       "<polygon fill=\"#000000\" stroke=\"#000000\" points=\"192.2732,-109.9822 201.9002,-105.5582 191.6156,-103.0132 192.2732,-109.9822\"/>\n",
       "<text text-anchor=\"middle\" x=\"164.5\" y=\"-113.8\" font-family=\"Times,serif\" font-size=\"14.00\" fill=\"#000000\">no</text>\n",
       "</g>\n",
       "<!-- split4 -->\n",
       "<g id=\"node3\" class=\"node\">\n",
       "<title>split4</title>\n",
       "<polygon fill=\"none\" stroke=\"#000000\" points=\"586.5,-196 450.5,-196 450.5,-160 586.5,-160 586.5,-196\"/>\n",
       "<text text-anchor=\"start\" x=\"458.5\" y=\"-175.3\" font-family=\"Times,serif\" font-weight=\"bold\" font-size=\"14.00\" fill=\"#000000\">area_error</text>\n",
       "<text text-anchor=\"start\" x=\"524.5\" y=\"-175.3\" font-family=\"Times,serif\" font-size=\"14.00\" fill=\"#000000\"> ≤ </text>\n",
       "<text text-anchor=\"start\" x=\"539.5\" y=\"-175.3\" font-family=\"Times,serif\" font-weight=\"bold\" font-size=\"14.00\" fill=\"#000000\">34.730</text>\n",
       "</g>\n",
       "<!-- split1&#45;&gt;split4 -->\n",
       "<g id=\"edge3\" class=\"edge\">\n",
       "<title>split1&#45;&gt;split4</title>\n",
       "<path fill=\"none\" stroke=\"#000000\" d=\"M380.1938,-154.5583C400.2788,-157.9625 421.1731,-161.5039 440.4537,-164.7718\"/>\n",
       "<polygon fill=\"#000000\" stroke=\"#000000\" points=\"439.9321,-168.2332 450.3764,-166.4536 441.1019,-161.3317 439.9321,-168.2332\"/>\n",
       "<text text-anchor=\"middle\" x=\"400.5\" y=\"-162.8\" font-family=\"Times,serif\" font-size=\"14.00\" fill=\"#000000\">yes</text>\n",
       "</g>\n",
       "<!-- split2 -->\n",
       "<g id=\"node6\" class=\"node\">\n",
       "<title>split2</title>\n",
       "<polygon fill=\"none\" stroke=\"#000000\" points=\"616,-156 421,-156 421,-120 616,-120 616,-156\"/>\n",
       "<text text-anchor=\"start\" x=\"429\" y=\"-135.3\" font-family=\"Times,serif\" font-weight=\"bold\" font-size=\"14.00\" fill=\"#000000\">worst_concave_points</text>\n",
       "<text text-anchor=\"start\" x=\"561\" y=\"-135.3\" font-family=\"Times,serif\" font-size=\"14.00\" fill=\"#000000\"> ≤ </text>\n",
       "<text text-anchor=\"start\" x=\"576\" y=\"-135.3\" font-family=\"Times,serif\" font-weight=\"bold\" font-size=\"14.00\" fill=\"#000000\">0.164</text>\n",
       "</g>\n",
       "<!-- split1&#45;&gt;split2 -->\n",
       "<g id=\"edge6\" class=\"edge\">\n",
       "<title>split1&#45;&gt;split2</title>\n",
       "<path fill=\"none\" stroke=\"#000000\" d=\"M380.1938,-138C390.2749,-138 400.56,-138 410.7425,-138\"/>\n",
       "<polygon fill=\"#000000\" stroke=\"#000000\" points=\"410.8795,-141.5001 420.8795,-138 410.8795,-134.5001 410.8795,-141.5001\"/>\n",
       "<text text-anchor=\"middle\" x=\"400.5\" y=\"-141.8\" font-family=\"Times,serif\" font-size=\"14.00\" fill=\"#000000\">no</text>\n",
       "</g>\n",
       "<!-- leaf0 -->\n",
       "<g id=\"node4\" class=\"node\">\n",
       "<title>leaf0</title>\n",
       "<ellipse fill=\"none\" stroke=\"#000000\" cx=\"713.545\" cy=\"-218\" rx=\"56.59\" ry=\"18\"/>\n",
       "<text text-anchor=\"start\" x=\"678.045\" y=\"-215.3\" font-family=\"Times,serif\" font-size=\"14.00\" fill=\"#000000\">leaf 0: </text>\n",
       "<text text-anchor=\"start\" x=\"717.045\" y=\"-215.3\" font-family=\"Times,serif\" font-weight=\"bold\" font-size=\"14.00\" fill=\"#000000\">0.814</text>\n",
       "</g>\n",
       "<!-- split4&#45;&gt;leaf0 -->\n",
       "<g id=\"edge1\" class=\"edge\">\n",
       "<title>split4&#45;&gt;leaf0</title>\n",
       "<path fill=\"none\" stroke=\"#000000\" d=\"M586.7173,-191.9901C609.288,-196.6189 634.1675,-201.7212 655.8681,-206.1716\"/>\n",
       "<polygon fill=\"#000000\" stroke=\"#000000\" points=\"655.4181,-209.6521 665.9174,-208.2325 656.8244,-202.7948 655.4181,-209.6521\"/>\n",
       "<text text-anchor=\"middle\" x=\"636.5\" y=\"-206.8\" font-family=\"Times,serif\" font-size=\"14.00\" fill=\"#000000\">yes</text>\n",
       "</g>\n",
       "<!-- leaf5 -->\n",
       "<g id=\"node5\" class=\"node\">\n",
       "<title>leaf5</title>\n",
       "<ellipse fill=\"none\" stroke=\"#000000\" cx=\"713.545\" cy=\"-178\" rx=\"56.59\" ry=\"18\"/>\n",
       "<text text-anchor=\"start\" x=\"678.045\" y=\"-175.3\" font-family=\"Times,serif\" font-size=\"14.00\" fill=\"#000000\">leaf 5: </text>\n",
       "<text text-anchor=\"start\" x=\"717.045\" y=\"-175.3\" font-family=\"Times,serif\" font-weight=\"bold\" font-size=\"14.00\" fill=\"#000000\">0.701</text>\n",
       "</g>\n",
       "<!-- split4&#45;&gt;leaf5 -->\n",
       "<g id=\"edge2\" class=\"edge\">\n",
       "<title>split4&#45;&gt;leaf5</title>\n",
       "<path fill=\"none\" stroke=\"#000000\" d=\"M586.7173,-178C606.1791,-178 627.3574,-178 646.7342,-178\"/>\n",
       "<polygon fill=\"#000000\" stroke=\"#000000\" points=\"646.9867,-181.5001 656.9867,-178 646.9866,-174.5001 646.9867,-181.5001\"/>\n",
       "<text text-anchor=\"middle\" x=\"636.5\" y=\"-181.8\" font-family=\"Times,serif\" font-size=\"14.00\" fill=\"#000000\">no</text>\n",
       "</g>\n",
       "<!-- leaf2 -->\n",
       "<g id=\"node7\" class=\"node\">\n",
       "<title>leaf2</title>\n",
       "<ellipse fill=\"none\" stroke=\"#000000\" cx=\"713.545\" cy=\"-138\" rx=\"56.59\" ry=\"18\"/>\n",
       "<text text-anchor=\"start\" x=\"678.045\" y=\"-135.3\" font-family=\"Times,serif\" font-size=\"14.00\" fill=\"#000000\">leaf 2: </text>\n",
       "<text text-anchor=\"start\" x=\"717.045\" y=\"-135.3\" font-family=\"Times,serif\" font-weight=\"bold\" font-size=\"14.00\" fill=\"#000000\">0.505</text>\n",
       "</g>\n",
       "<!-- split2&#45;&gt;leaf2 -->\n",
       "<g id=\"edge4\" class=\"edge\">\n",
       "<title>split2&#45;&gt;leaf2</title>\n",
       "<path fill=\"none\" stroke=\"#000000\" d=\"M616.0225,-138C626.413,-138 636.8035,-138 646.7221,-138\"/>\n",
       "<polygon fill=\"#000000\" stroke=\"#000000\" points=\"646.8679,-141.5001 656.8679,-138 646.8679,-134.5001 646.8679,-141.5001\"/>\n",
       "<text text-anchor=\"middle\" x=\"636.5\" y=\"-141.8\" font-family=\"Times,serif\" font-size=\"14.00\" fill=\"#000000\">yes</text>\n",
       "</g>\n",
       "<!-- leaf3 -->\n",
       "<g id=\"node8\" class=\"node\">\n",
       "<title>leaf3</title>\n",
       "<ellipse fill=\"none\" stroke=\"#000000\" cx=\"713.545\" cy=\"-98\" rx=\"56.59\" ry=\"18\"/>\n",
       "<text text-anchor=\"start\" x=\"678.045\" y=\"-95.3\" font-family=\"Times,serif\" font-size=\"14.00\" fill=\"#000000\">leaf 3: </text>\n",
       "<text text-anchor=\"start\" x=\"717.045\" y=\"-95.3\" font-family=\"Times,serif\" font-weight=\"bold\" font-size=\"14.00\" fill=\"#000000\">0.095</text>\n",
       "</g>\n",
       "<!-- split2&#45;&gt;leaf3 -->\n",
       "<g id=\"edge5\" class=\"edge\">\n",
       "<title>split2&#45;&gt;leaf3</title>\n",
       "<path fill=\"none\" stroke=\"#000000\" d=\"M606.3226,-119.9893C623.1603,-116.5362 640.3876,-113.0032 655.9699,-109.8076\"/>\n",
       "<polygon fill=\"#000000\" stroke=\"#000000\" points=\"656.8586,-113.1982 665.9515,-107.7605 655.4522,-106.3409 656.8586,-113.1982\"/>\n",
       "<text text-anchor=\"middle\" x=\"636.5\" y=\"-118.8\" font-family=\"Times,serif\" font-size=\"14.00\" fill=\"#000000\">no</text>\n",
       "</g>\n",
       "<!-- leaf1 -->\n",
       "<g id=\"node10\" class=\"node\">\n",
       "<title>leaf1</title>\n",
       "<ellipse fill=\"none\" stroke=\"#000000\" cx=\"518.5\" cy=\"-98\" rx=\"56.59\" ry=\"18\"/>\n",
       "<text text-anchor=\"start\" x=\"483\" y=\"-95.3\" font-family=\"Times,serif\" font-size=\"14.00\" fill=\"#000000\">leaf 1: </text>\n",
       "<text text-anchor=\"start\" x=\"522\" y=\"-95.3\" font-family=\"Times,serif\" font-weight=\"bold\" font-size=\"14.00\" fill=\"#000000\">0.338</text>\n",
       "</g>\n",
       "<!-- split3&#45;&gt;leaf1 -->\n",
       "<g id=\"edge8\" class=\"edge\">\n",
       "<title>split3&#45;&gt;leaf1</title>\n",
       "<path fill=\"none\" stroke=\"#000000\" d=\"M363.0577,-98C391.8298,-98 423.9152,-98 451.4292,-98\"/>\n",
       "<polygon fill=\"#000000\" stroke=\"#000000\" points=\"451.734,-101.5001 461.734,-98 451.734,-94.5001 451.734,-101.5001\"/>\n",
       "<text text-anchor=\"middle\" x=\"400.5\" y=\"-101.8\" font-family=\"Times,serif\" font-size=\"14.00\" fill=\"#000000\">yes</text>\n",
       "</g>\n",
       "<!-- split5 -->\n",
       "<g id=\"node11\" class=\"node\">\n",
       "<title>split5</title>\n",
       "<polygon fill=\"none\" stroke=\"#000000\" points=\"588.5,-76 448.5,-76 448.5,-40 588.5,-40 588.5,-76\"/>\n",
       "<text text-anchor=\"start\" x=\"456.5\" y=\"-55.3\" font-family=\"Times,serif\" font-weight=\"bold\" font-size=\"14.00\" fill=\"#000000\">radius_error</text>\n",
       "<text text-anchor=\"start\" x=\"533.5\" y=\"-55.3\" font-family=\"Times,serif\" font-size=\"14.00\" fill=\"#000000\"> ≤ </text>\n",
       "<text text-anchor=\"start\" x=\"548.5\" y=\"-55.3\" font-family=\"Times,serif\" font-weight=\"bold\" font-size=\"14.00\" fill=\"#000000\">0.335</text>\n",
       "</g>\n",
       "<!-- split3&#45;&gt;split5 -->\n",
       "<g id=\"edge11\" class=\"edge\">\n",
       "<title>split3&#45;&gt;split5</title>\n",
       "<path fill=\"none\" stroke=\"#000000\" d=\"M363.0577,-84.3461C387.3513,-80.2286 414.0071,-75.7107 438.2787,-71.5968\"/>\n",
       "<polygon fill=\"#000000\" stroke=\"#000000\" points=\"438.8884,-75.0435 448.1629,-69.9216 437.7186,-68.1419 438.8884,-75.0435\"/>\n",
       "<text text-anchor=\"middle\" x=\"400.5\" y=\"-82.8\" font-family=\"Times,serif\" font-size=\"14.00\" fill=\"#000000\">no</text>\n",
       "</g>\n",
       "<!-- leaf4 -->\n",
       "<g id=\"node12\" class=\"node\">\n",
       "<title>leaf4</title>\n",
       "<ellipse fill=\"none\" stroke=\"#000000\" cx=\"713.545\" cy=\"-58\" rx=\"56.59\" ry=\"18\"/>\n",
       "<text text-anchor=\"start\" x=\"678.045\" y=\"-55.3\" font-family=\"Times,serif\" font-size=\"14.00\" fill=\"#000000\">leaf 4: </text>\n",
       "<text text-anchor=\"start\" x=\"717.045\" y=\"-55.3\" font-family=\"Times,serif\" font-weight=\"bold\" font-size=\"14.00\" fill=\"#000000\">0.095</text>\n",
       "</g>\n",
       "<!-- split5&#45;&gt;leaf4 -->\n",
       "<g id=\"edge9\" class=\"edge\">\n",
       "<title>split5&#45;&gt;leaf4</title>\n",
       "<path fill=\"none\" stroke=\"#000000\" d=\"M588.6402,-58C607.5307,-58 627.913,-58 646.623,-58\"/>\n",
       "<polygon fill=\"#000000\" stroke=\"#000000\" points=\"646.8254,-61.5001 656.8254,-58 646.8254,-54.5001 646.8254,-61.5001\"/>\n",
       "<text text-anchor=\"middle\" x=\"636.5\" y=\"-61.8\" font-family=\"Times,serif\" font-size=\"14.00\" fill=\"#000000\">yes</text>\n",
       "</g>\n",
       "<!-- leaf6 -->\n",
       "<g id=\"node13\" class=\"node\">\n",
       "<title>leaf6</title>\n",
       "<ellipse fill=\"none\" stroke=\"#000000\" cx=\"713.545\" cy=\"-18\" rx=\"56.59\" ry=\"18\"/>\n",
       "<text text-anchor=\"start\" x=\"678.045\" y=\"-15.3\" font-family=\"Times,serif\" font-size=\"14.00\" fill=\"#000000\">leaf 6: </text>\n",
       "<text text-anchor=\"start\" x=\"717.045\" y=\"-15.3\" font-family=\"Times,serif\" font-weight=\"bold\" font-size=\"14.00\" fill=\"#000000\">0.015</text>\n",
       "</g>\n",
       "<!-- split5&#45;&gt;leaf6 -->\n",
       "<g id=\"edge10\" class=\"edge\">\n",
       "<title>split5&#45;&gt;leaf6</title>\n",
       "<path fill=\"none\" stroke=\"#000000\" d=\"M588.6402,-43.6156C610.7965,-39.0718 635.0048,-34.1071 656.1604,-29.7685\"/>\n",
       "<polygon fill=\"#000000\" stroke=\"#000000\" points=\"656.8688,-33.1961 665.9617,-27.7584 655.4624,-26.3389 656.8688,-33.1961\"/>\n",
       "<text text-anchor=\"middle\" x=\"636.5\" y=\"-38.8\" font-family=\"Times,serif\" font-size=\"14.00\" fill=\"#000000\">no</text>\n",
       "</g>\n",
       "</g>\n",
       "</svg>\n"
      ],
      "text/plain": [
       "<graphviz.dot.Digraph at 0x1a1c7d0c50>"
      ]
     },
     "execution_count": 297,
     "metadata": {},
     "output_type": "execute_result"
    }
   ],
   "source": [
    "lgbm.create_tree_digraph(model)"
   ]
  },
  {
   "cell_type": "code",
   "execution_count": 316,
   "metadata": {},
   "outputs": [
    {
     "data": {
      "text/plain": [
       "<matplotlib.axes._subplots.AxesSubplot at 0x1a1bacff90>"
      ]
     },
     "execution_count": 316,
     "metadata": {},
     "output_type": "execute_result"
    },
    {
     "data": {
      "image/png": "[encoded data removed]",
      "text/plain": [
       "<Figure size 432x288 with 1 Axes>"
      ]
     },
     "metadata": {
      "needs_background": "light"
     },
     "output_type": "display_data"
    }
   ],
   "source": [
    "lgbm.plot_split_value_histogram(model, 'worst_texture')"
   ]
  },
  {
   "cell_type": "code",
   "execution_count": 406,
   "metadata": {},
   "outputs": [
    {
     "data": {
      "text/plain": [
       "[<matplotlib.lines.Line2D at 0x1a1d88d290>]"
      ]
     },
     "execution_count": 406,
     "metadata": {},
     "output_type": "execute_result"
    },
    {
     "data": {
      "image/png": "[encoded data removed]",
      "text/plain": [
       "<Figure size 432x288 with 1 Axes>"
      ]
     },
     "metadata": {
      "needs_background": "light"
     },
     "output_type": "display_data"
    }
   ],
   "source": [
    "import matplotlib.pyplot as plt\n",
    "\n",
    "plt.plot(np.array(np.arange(len(trials.losses()))),-np.array(trials.losses()), 'bo')"
   ]
  },
  {
   "cell_type": "code",
   "execution_count": 407,
   "metadata": {},
   "outputs": [],
   "source": [
    "data = pd.DataFrame({'idx' : np.array(np.arange(len(trials.losses()))),'gini' : -np.array(trials.losses())})"
   ]
  },
  {
   "cell_type": "code",
   "execution_count": 409,
   "metadata": {},
   "outputs": [
    {
     "data": {
      "image/png": "[encoded data removed]",
      "text/plain": [
       "<Figure size 432x288 with 1 Axes>"
      ]
     },
     "metadata": {},
     "output_type": "display_data"
    }
   ],
   "source": [
    "import seaborn as sns; sns.set(color_codes=True)\n",
    "ax = sns.regplot(x=\"idx\", y=\"gini\", data=data)"
   ]
  },
  {
   "cell_type": "code",
   "execution_count": 257,
   "metadata": {},
   "outputs": [
    {
     "name": "stdout",
     "output_type": "stream",
     "text": [
      "[-0.9841119546410114, -0.9585535622699785, -0.9829960153075313, -0.9707635166742753, -0.9600764249361716, -0.9679015268079062, -0.9781726775217129, -0.9852245123401474, -0.9851388442701023, -0.9884765173675104, -0.9605532353786584, -0.9851444803273424, -0.9853890852115494, -0.9807167937597573, -0.987295199770049, -0.9834694441156745, -0.9690586093592367, -0.9807821720237392, -0.9883220893991399, -0.9870551037316334, -0.9875330413855684, -0.9899013126377311, -0.9892024415399964, -0.9881687886422176, -0.9859357827638098, -0.9877652469438479, -0.9792908712780887, -0.9886365813931207, -0.9864926252191016, -0.9849810346673881, -0.9646844653354302, -0.9880887566294123]\n"
     ]
    }
   ],
   "source": [
    "print(trials.losses())\n",
    "# print(trials.statuses())"
   ]
  },
  {
   "cell_type": "code",
   "execution_count": null,
   "metadata": {},
   "outputs": [],
   "source": []
  }
 ],
 "metadata": {
  "kernelspec": {
   "display_name": "Python 3",
   "language": "python",
   "name": "python3"
  },
  "language_info": {
   "codemirror_mode": {
    "name": "ipython",
    "version": 3
   },
   "file_extension": ".py",
   "mimetype": "text/x-python",
   "name": "python",
   "nbconvert_exporter": "python",
   "pygments_lexer": "ipython3",
   "version": "3.7.6"
  },
  "toc": {
   "base_numbering": 1,
   "nav_menu": {},
   "number_sections": true,
   "sideBar": true,
   "skip_h1_title": false,
   "title_cell": "Table of Contents",
   "title_sidebar": "Contents",
   "toc_cell": false,
   "toc_position": {},
   "toc_section_display": true,
   "toc_window_display": false
  },
  "varInspector": {
   "cols": {
    "lenName": 16,
    "lenType": 16,
    "lenVar": 40
   },
   "kernels_config": {
    "python": {
     "delete_cmd_postfix": "",
     "delete_cmd_prefix": "del ",
     "library": "var_list.py",
     "varRefreshCmd": "print(var_dic_list())"
    },
    "r": {
     "delete_cmd_postfix": ") ",
     "delete_cmd_prefix": "rm(",
     "library": "var_list.r",
     "varRefreshCmd": "cat(var_dic_list()) "
    }
   },
   "types_to_exclude": [
    "module",
    "function",
    "builtin_function_or_method",
    "instance",
    "_Feature"
   ],
   "window_display": false
  }
 },
 "nbformat": 4,
 "nbformat_minor": 4
}
