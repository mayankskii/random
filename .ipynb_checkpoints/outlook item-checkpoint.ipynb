{
 "cells": [
  {
   "cell_type": "code",
   "execution_count": null,
   "metadata": {},
   "outputs": [],
   "source": [
    "pip install --trusted-host pypi.org --trusted-host files.pythonhosted.org extract_msg"
   ]
  },
  {
   "cell_type": "code",
   "execution_count": 13,
   "metadata": {},
   "outputs": [
    {
     "name": "stdout",
     "output_type": "stream",
     "text": [
      "Requirement already satisfied: extract_msg in /Users/mayankmahawar/anaconda3/lib/python3.7/site-packages (0.23.1)\n",
      "Requirement already satisfied: tzlocal==1.5.1 in /Users/mayankmahawar/anaconda3/lib/python3.7/site-packages (from extract_msg) (1.5.1)\n",
      "Requirement already satisfied: olefile==0.46 in /Users/mayankmahawar/anaconda3/lib/python3.7/site-packages (from extract_msg) (0.46)\n",
      "Requirement already satisfied: imapclient==2.1.0 in /Users/mayankmahawar/anaconda3/lib/python3.7/site-packages (from extract_msg) (2.1.0)\n",
      "Requirement already satisfied: pytz in /Users/mayankmahawar/anaconda3/lib/python3.7/site-packages (from tzlocal==1.5.1->extract_msg) (2020.1)\n",
      "Requirement already satisfied: six in /Users/mayankmahawar/anaconda3/lib/python3.7/site-packages (from imapclient==2.1.0->extract_msg) (1.15.0)\n",
      "Note: you may need to restart the kernel to use updated packages.\n"
     ]
    }
   ],
   "source": [
    "import extract_msg\n",
    "\n",
    "msg = extract_msg.Message(r'/Users/mayankmahawar/Downloads/strangeDate.msg')\n",
    "\n",
    "print(msg.sender)\n",
    "print(msg.date)\n",
    "print(msg.subject)\n",
    "print(msg.body)"
   ]
  }
 ],
 "metadata": {
  "kernelspec": {
   "display_name": "Python 3",
   "language": "python",
   "name": "python3"
  },
  "language_info": {
   "codemirror_mode": {
    "name": "ipython",
    "version": 3
   },
   "file_extension": ".py",
   "mimetype": "text/x-python",
   "name": "python",
   "nbconvert_exporter": "python",
   "pygments_lexer": "ipython3",
   "version": "3.7.7"
  },
  "toc": {
   "base_numbering": 1,
   "nav_menu": {},
   "number_sections": true,
   "sideBar": true,
   "skip_h1_title": false,
   "title_cell": "Table of Contents",
   "title_sidebar": "Contents",
   "toc_cell": false,
   "toc_position": {},
   "toc_section_display": true,
   "toc_window_display": false
  },
  "varInspector": {
   "cols": {
    "lenName": 16,
    "lenType": 16,
    "lenVar": 40
   },
   "kernels_config": {
    "python": {
     "delete_cmd_postfix": "",
     "delete_cmd_prefix": "del ",
     "library": "var_list.py",
     "varRefreshCmd": "print(var_dic_list())"
    },
    "r": {
     "delete_cmd_postfix": ") ",
     "delete_cmd_prefix": "rm(",
     "library": "var_list.r",
     "varRefreshCmd": "cat(var_dic_list()) "
    }
   },
   "types_to_exclude": [
    "module",
    "function",
    "builtin_function_or_method",
    "instance",
    "_Feature"
   ],
   "window_display": false
  }
 },
 "nbformat": 4,
 "nbformat_minor": 4
}
