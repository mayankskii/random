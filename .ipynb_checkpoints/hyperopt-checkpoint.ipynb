{
 "cells": [
  {
   "cell_type": "code",
   "execution_count": 14,
   "metadata": {},
   "outputs": [],
   "source": [
    "import numpy as np\n",
    "import pandas as pd\n",
    "import pyspark"
   ]
  },
  {
   "cell_type": "code",
   "execution_count": 2,
   "metadata": {},
   "outputs": [],
   "source": [
    "from sklearn.datasets import fetch_openml\n",
    "from sklearn.linear_model import LogisticRegression\n",
    "from sklearn.model_selection import train_test_split\n",
    "from sklearn.preprocessing import StandardScaler\n",
    "from sklearn.utils import check_random_state"
   ]
  },
  {
   "cell_type": "code",
   "execution_count": 3,
   "metadata": {},
   "outputs": [],
   "source": [
    "from hyperopt import fmin, hp, tpe\n",
    "from hyperopt import SparkTrials, STATUS_OK"
   ]
  },
  {
   "cell_type": "code",
   "execution_count": 4,
   "metadata": {},
   "outputs": [
    {
     "name": "stdout",
     "output_type": "stream",
     "text": [
      "100%|██████████| 100/100 [00:00<00:00, 314.74trial/s, best loss: 2.263767105238341e-05]\n",
      "{'x': -0.004757906162629041}\n"
     ]
    }
   ],
   "source": [
    "import pickle\n",
    "import time\n",
    "from hyperopt import fmin, tpe, hp, STATUS_OK, Trials\n",
    "\n",
    "def objective(x):\n",
    "    return {\n",
    "        'loss': x ** 2,\n",
    "        'status': STATUS_OK,\n",
    "        # -- store other results like this\n",
    "        'eval_time': time.time(),\n",
    "        'other_stuff': {'type': None, 'value': [0, 1, 2]},\n",
    "        # -- attachments are handled differently\n",
    "        'attachments':\n",
    "            {'time_module': pickle.dumps(time.time)}\n",
    "        }\n",
    "trials = Trials()\n",
    "best = fmin(objective,\n",
    "    space=hp.uniform('x', -10, 10),\n",
    "    algo=tpe.suggest,\n",
    "    max_evals=100,\n",
    "    trials=trials,\n",
    "           verbose = 1)\n",
    "\n",
    "print(best)"
   ]
  },
  {
   "cell_type": "code",
   "execution_count": 5,
   "metadata": {},
   "outputs": [],
   "source": [
    "# Load MNIST data, and preprocess it by standarizing features.\n",
    "X, y = fetch_openml('mnist_784', version=1, return_X_y=True)"
   ]
  },
  {
   "cell_type": "code",
   "execution_count": 6,
   "metadata": {},
   "outputs": [],
   "source": [
    "random_state = check_random_state(0)\n",
    "permutation = random_state.permutation(X.shape[0])"
   ]
  },
  {
   "cell_type": "code",
   "execution_count": 7,
   "metadata": {},
   "outputs": [],
   "source": [
    "X = X[permutation]\n",
    "y = y[permutation]\n",
    "X = X.reshape((X.shape[0], -1))\n",
    "\n",
    "X_train, X_test, y_train, y_test = train_test_split(\n",
    "    X, y, train_size=5000, test_size=10000)\n",
    "\n",
    "scaler = StandardScaler()\n",
    "X_train = scaler.fit_transform(X_train)\n",
    "X_test = scaler.transform(X_test)"
   ]
  },
  {
   "cell_type": "code",
   "execution_count": 8,
   "metadata": {},
   "outputs": [],
   "source": [
    "# First, set up the scikit-learn workflow, wrapped within a function.\n",
    "\n",
    "def train(params):\n",
    "    \"\"\"\n",
    "    This is our main training function which we pass to Hyperopt.\n",
    "    It takes in hyperparameter settings, fits a model based on those settings,\n",
    "    evaluates the model, and returns the loss.\n",
    "\n",
    "    :param params: map specifying the hyperparameter settings to test\n",
    "    :return: loss for the fitted model\n",
    "    \"\"\"\n",
    "  # We will tune 2 hyperparameters:\n",
    "  #  regularization and the penalty type (L1 vs L2).\n",
    "    regParam = float(params['regParam'])\n",
    "    penalty = params['penalty']\n",
    "\n",
    "  # Turn up tolerance for faster convergence\n",
    "    clf = LogisticRegression(C=1.0 / regParam,\n",
    "                           multi_class='multinomial',\n",
    "                           penalty=penalty, solver='saga', tol=0.1)\n",
    "    clf.fit(X_train, y_train)\n",
    "    score = clf.score(X_test, y_test)\n",
    "\n",
    "    return {'loss': -score, 'status': STATUS_OK}"
   ]
  },
  {
   "cell_type": "code",
   "execution_count": 9,
   "metadata": {},
   "outputs": [],
   "source": [
    "# Next, define a search space for Hyperopt.\n",
    "search_space = {\n",
    "  'penalty': hp.choice('penalty', ['l1', 'l2']),\n",
    "  'regParam': hp.loguniform('regParam', -10.0, 0),\n",
    "}\n",
    "\n",
    "# Select a search algorithm for Hyperopt to use.\n",
    "algo=tpe.suggest  # Tree of Parzen Estimators, a Bayesian method"
   ]
  },
  {
   "cell_type": "code",
   "execution_count": null,
   "metadata": {},
   "outputs": [],
   "source": [
    "# We can run Hyperopt locally (only on the driver machine)\n",
    "# by calling `fmin` without an explicit `trials` argument.\n",
    "best_hyperparameters = fmin(\n",
    "  fn=train,\n",
    "  space=search_space,\n",
    "  algo=algo,\n",
    "  max_evals=32)\n",
    "best_hyperparameters"
   ]
  },
  {
   "cell_type": "code",
   "execution_count": 10,
   "metadata": {},
   "outputs": [
    {
     "name": "stdout",
     "output_type": "stream",
     "text": [
      "100%|██████████| 32/32 [02:19<00:00,  4.36s/trial, best loss: -0.8717]\n"
     ]
    },
    {
     "name": "stderr",
     "output_type": "stream",
     "text": [
      "Total Trials: 32: 32 succeeded, 0 failed, 0 cancelled.\n"
     ]
    },
    {
     "data": {
      "text/plain": [
       "{'penalty': 1, 'regParam': 0.17379454650982248}"
      ]
     },
     "execution_count": 10,
     "metadata": {},
     "output_type": "execute_result"
    }
   ],
   "source": [
    "# We can distribute tuning across our Spark cluster\n",
    "# by calling `fmin` with a `SparkTrials` instance.\n",
    "spark_trials = SparkTrials()\n",
    "best_hyperparameters = fmin(\n",
    "  fn=train,\n",
    "  space=search_space,\n",
    "  algo=algo,\n",
    "  trials=spark_trials,\n",
    "  max_evals=32)\n",
    "best_hyperparameters"
   ]
  },
  {
   "cell_type": "code",
   "execution_count": null,
   "metadata": {},
   "outputs": [],
   "source": [
    "# We can distribute tuning across our Spark cluster\n",
    "# by calling `fmin` with a `SparkTrials` instance.\n",
    "\n",
    "best_hyperparameters = fmin(\n",
    "  fn=train,\n",
    "  space=search_space,\n",
    "  algo=algo,\n",
    "  trials=spark_trials,\n",
    "  max_evals=32)\n",
    "best_hyperparameters"
   ]
  },
  {
   "cell_type": "code",
   "execution_count": null,
   "metadata": {},
   "outputs": [],
   "source": []
  }
 ],
 "metadata": {
  "kernelspec": {
   "display_name": "Python 3",
   "language": "python",
   "name": "python3"
  },
  "language_info": {
   "codemirror_mode": {
    "name": "ipython",
    "version": 3
   },
   "file_extension": ".py",
   "mimetype": "text/x-python",
   "name": "python",
   "nbconvert_exporter": "python",
   "pygments_lexer": "ipython3",
   "version": "3.7.6"
  },
  "toc": {
   "base_numbering": 1,
   "nav_menu": {},
   "number_sections": true,
   "sideBar": true,
   "skip_h1_title": false,
   "title_cell": "Table of Contents",
   "title_sidebar": "Contents",
   "toc_cell": false,
   "toc_position": {},
   "toc_section_display": true,
   "toc_window_display": false
  },
  "varInspector": {
   "cols": {
    "lenName": 16,
    "lenType": 16,
    "lenVar": 40
   },
   "kernels_config": {
    "python": {
     "delete_cmd_postfix": "",
     "delete_cmd_prefix": "del ",
     "library": "var_list.py",
     "varRefreshCmd": "print(var_dic_list())"
    },
    "r": {
     "delete_cmd_postfix": ") ",
     "delete_cmd_prefix": "rm(",
     "library": "var_list.r",
     "varRefreshCmd": "cat(var_dic_list()) "
    }
   },
   "types_to_exclude": [
    "module",
    "function",
    "builtin_function_or_method",
    "instance",
    "_Feature"
   ],
   "window_display": false
  }
 },
 "nbformat": 4,
 "nbformat_minor": 4
}
