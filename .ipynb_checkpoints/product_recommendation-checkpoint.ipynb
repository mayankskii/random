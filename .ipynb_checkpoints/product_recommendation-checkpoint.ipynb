{
 "cells": [
  {
   "cell_type": "code",
   "execution_count": 324,
   "metadata": {},
   "outputs": [],
   "source": [
    "import numpy as np\n",
    "from scipy.spatial.distance import cdist\n",
    "\n",
    "def product_recommendation(x, y, z, k = 100, n_products = 1, kwargs= {'metric' : 'seuclidean'}):\n",
    "    \"\"\"Recommend products based on nearest neighbours in vector space.\n",
    "    \n",
    "        Parameters\n",
    "        ----------\n",
    "        x : sparse dataframe of shape (m_samples, n_features), dtype=floating\n",
    "            The input data for which recommendations to be generated.\n",
    "            \n",
    "        y : sparse dataframe of shape (n_samples, n_features), dtype=floating\n",
    "            The input data having historical samples for product holdings.\n",
    "            \n",
    "        z : sparse dataframe of shape (n_samples, k_products), dtype=floating\n",
    "            The input data having historical products sold/target.\n",
    "            \n",
    "        k: neighbourhood size\n",
    "        \n",
    "        n_products: no. of products to recommend <=  unique count of k_products\n",
    "        \n",
    "        kwargs: arguments for cdist calculation\n",
    "    \"\"\"\n",
    "    y = y[x.columns]\n",
    "    x,y,z, products_target = tuple(map(np.array, [x,y,z, z.columns]))\n",
    "    \n",
    "    # Neighbourhood\n",
    "    Y = cdist(x, y, **kwargs)\n",
    "    nearest_ind = np.argpartition(Y,k)[:,:k]\n",
    "    nearest_neighbours = np.take(z, nearest_ind, axis = 0)\n",
    "    \n",
    "    # Product frequency\n",
    "    Z = np.einsum('ijk->ik', nearest_neighbours)\n",
    "    products_freq_ind = np.argpartition(Z,-n_products)[:,-n_products:]\n",
    "    products_freq_rec = np.take(products_target, products_freq_ind, axis = None)\n",
    "    \n",
    "    return products_freq_rec"
   ]
  },
  {
   "cell_type": "code",
   "execution_count": null,
   "metadata": {},
   "outputs": [],
   "source": []
  },
  {
   "cell_type": "markdown",
   "metadata": {},
   "source": [
    "# DASK implementation"
   ]
  },
  {
   "cell_type": "code",
   "execution_count": 1,
   "metadata": {},
   "outputs": [],
   "source": [
    "import numpy as np\n",
    "import dask.array as da\n",
    "import dask_distance\n",
    "from scipy.spatial.distance import cdist\n",
    "\n",
    "def product_recommendation(x, y, z, k = 100, n_products = 1, kwargs= {'metric' : 'seuclidean'}):\n",
    "    \"\"\"Recommend products based on nearest neighbours in vector space.\n",
    "    \n",
    "        Parameters\n",
    "        ----------\n",
    "        x : sparse dataframe of shape (m_samples, n_features), dtype=floating\n",
    "            The input data for which recommendations to be generated.\n",
    "            \n",
    "        y : sparse dataframe of shape (n_samples, n_features), dtype=floating\n",
    "            The input data having historical samples for product holdings.\n",
    "            \n",
    "        z : sparse dataframe of shape (n_samples, k_products), dtype=floating\n",
    "            The input data having historical products sold/target.\n",
    "            \n",
    "        k: neighbourhood size\n",
    "        \n",
    "        n_products: no. of products to recommend <=  unique count of k_products\n",
    "        \n",
    "        kwargs: arguments for cdist calculation\n",
    "    \"\"\"\n",
    "    y = y[x.columns]\n",
    "    x,y,z, products_target = tuple(map(np.array, [x,y,z, z.columns]))\n",
    "    \n",
    "    # Neighbourhood\n",
    "    Y = da.from_array(cdist(x, y, **kwargs), chunks='auto')\n",
    "    nearest_ind = Y.argtopk(-k)\n",
    "    nearest_neighbours = np.take(z, nearest_ind, axis = 0)\n",
    "    \n",
    "    # Product frequency\n",
    "    Z = da.from_array(np.einsum('ijk->ik', nearest_neighbours))\n",
    "    products_freq_ind = Z.argtopk(n_products)\n",
    "    products_freq_rec = np.take(products_target, products_freq_ind)\n",
    "\n",
    "    \n",
    "#     Y = cdist(y, x, **kwargs)\n",
    "#     nearest_n = np.argsort(Y, axis = 1)s\n",
    "#     nearest_ind = np.argpartition(Y,-k)[:,-k:]\n",
    "#     nearest_neighbours = np.take(z, nearest_ind, axis=0)\n",
    "    \n",
    "#     below is fully implemented in dask\n",
    "\n",
    "#     y = y[x.columns]\n",
    "#     x,y,z, products_target = tuple(map(lambda x: da.from_array(np.array(x)), [x,y,z, z.columns]))\n",
    "    \n",
    "#     Y = dask_distance.cdist(y, x, **kwargs)\n",
    "#     nearest_ind = Y.argtopk(k, axis = 1)\n",
    "#     nearest_neighbours = da.take(z, nearest_ind, axis = 0)\n",
    "    \n",
    "#     Z = da.einsum('ijk->ik', nearest_neighbours)\n",
    "#     products_freq_ind = Z.argtopk(topn, axis = 1)\n",
    "#     products_freq_rec = da.take(products_target, products_freq_ind, axis = None)\n",
    "    \n",
    "    return products_freq_rec"
   ]
  },
  {
   "cell_type": "markdown",
   "metadata": {},
   "source": [
    "# Debugging Dask"
   ]
  },
  {
   "cell_type": "code",
   "execution_count": null,
   "metadata": {},
   "outputs": [],
   "source": [
    "print(Y.shape,nearest_ind.shape, nearest_neighbours.shape,\\\n",
    "  Z.shape,products_freq_ind.shape, products_freq_rec.shape)\n",
    "(260, 140) (260, 100) (260, 100, 10) (260, 10) (260, 1) (260, 1)"
   ]
  },
  {
   "cell_type": "code",
   "execution_count": null,
   "metadata": {},
   "outputs": [],
   "source": [
    "import string \n",
    "import random"
   ]
  },
  {
   "cell_type": "code",
   "execution_count": 410,
   "metadata": {},
   "outputs": [],
   "source": [
    "x_col = [''.join(random.choices(string.ascii_uppercase +string.digits, k = 3)) for _ in range(22)] \n",
    "x = pd.DataFrame(np.random.randint(1e3, size=(260,22), dtype='int32'), columns = x_col)\n",
    "\n",
    "y = pd.DataFrame(np.random.randint(1e3, size=(140,22) , dtype='int32'), columns = x_col)\n",
    "\n",
    "z_col = [''.join(random.choices(string.ascii_uppercase +string.digits, k = 3)) for _ in range(10)] \n",
    "z = pd.DataFrame(np.random.randint(1e3, size=(140,10) , dtype='int32'), columns = z_col)"
   ]
  },
  {
   "cell_type": "code",
   "execution_count": 434,
   "metadata": {},
   "outputs": [
    {
     "name": "stdout",
     "output_type": "stream",
     "text": [
      "(260, 100) (140, 10)\n",
      "(260, 100, 10) <class 'numpy.ndarray'>\n"
     ]
    }
   ],
   "source": [
    "alp3 = product_recommendation(x,y,z)"
   ]
  },
  {
   "cell_type": "code",
   "execution_count": 376,
   "metadata": {},
   "outputs": [],
   "source": [
    "x_col = [''.join(random.choices(string.ascii_uppercase +string.digits, k = 3)) for _ in range(22)] \n",
    "x = pd.DataFrame(np.random.randint(1e3, size=(260,22), dtype='int32'), columns = x_col)\n",
    "\n",
    "y = pd.DataFrame(np.random.randint(1e3, size=(140,22) , dtype='int32'), columns = x_col)\n",
    "\n",
    "z_col = [''.join(random.choices(string.ascii_uppercase +string.digits, k = 3)) for _ in range(10)] \n",
    "z = pd.DataFrame(np.random.randint(1e3, size=(140,10) , dtype='int32'), columns = z_col)"
   ]
  },
  {
   "cell_type": "code",
   "execution_count": 298,
   "metadata": {},
   "outputs": [
    {
     "data": {
      "text/html": [
       "<div>\n",
       "<style scoped>\n",
       "    .dataframe tbody tr th:only-of-type {\n",
       "        vertical-align: middle;\n",
       "    }\n",
       "\n",
       "    .dataframe tbody tr th {\n",
       "        vertical-align: top;\n",
       "    }\n",
       "\n",
       "    .dataframe thead th {\n",
       "        text-align: right;\n",
       "    }\n",
       "</style>\n",
       "<table border=\"1\" class=\"dataframe\">\n",
       "  <thead>\n",
       "    <tr style=\"text-align: right;\">\n",
       "      <th></th>\n",
       "      <th>OWE</th>\n",
       "      <th>R03</th>\n",
       "      <th>GSL</th>\n",
       "      <th>3SW</th>\n",
       "      <th>INQ</th>\n",
       "      <th>TJM</th>\n",
       "      <th>0O4</th>\n",
       "      <th>T1N</th>\n",
       "      <th>XA0</th>\n",
       "      <th>4LE</th>\n",
       "    </tr>\n",
       "  </thead>\n",
       "  <tbody>\n",
       "    <tr>\n",
       "      <th>0</th>\n",
       "      <td>262</td>\n",
       "      <td>447</td>\n",
       "      <td>215</td>\n",
       "      <td>232</td>\n",
       "      <td>768</td>\n",
       "      <td>395</td>\n",
       "      <td>50</td>\n",
       "      <td>860</td>\n",
       "      <td>863</td>\n",
       "      <td>580</td>\n",
       "    </tr>\n",
       "    <tr>\n",
       "      <th>1</th>\n",
       "      <td>919</td>\n",
       "      <td>758</td>\n",
       "      <td>549</td>\n",
       "      <td>511</td>\n",
       "      <td>202</td>\n",
       "      <td>661</td>\n",
       "      <td>457</td>\n",
       "      <td>875</td>\n",
       "      <td>160</td>\n",
       "      <td>886</td>\n",
       "    </tr>\n",
       "    <tr>\n",
       "      <th>2</th>\n",
       "      <td>159</td>\n",
       "      <td>180</td>\n",
       "      <td>447</td>\n",
       "      <td>2</td>\n",
       "      <td>127</td>\n",
       "      <td>812</td>\n",
       "      <td>207</td>\n",
       "      <td>135</td>\n",
       "      <td>317</td>\n",
       "      <td>305</td>\n",
       "    </tr>\n",
       "    <tr>\n",
       "      <th>3</th>\n",
       "      <td>620</td>\n",
       "      <td>789</td>\n",
       "      <td>825</td>\n",
       "      <td>225</td>\n",
       "      <td>177</td>\n",
       "      <td>250</td>\n",
       "      <td>945</td>\n",
       "      <td>836</td>\n",
       "      <td>159</td>\n",
       "      <td>818</td>\n",
       "    </tr>\n",
       "    <tr>\n",
       "      <th>4</th>\n",
       "      <td>248</td>\n",
       "      <td>350</td>\n",
       "      <td>773</td>\n",
       "      <td>8</td>\n",
       "      <td>856</td>\n",
       "      <td>937</td>\n",
       "      <td>819</td>\n",
       "      <td>997</td>\n",
       "      <td>327</td>\n",
       "      <td>547</td>\n",
       "    </tr>\n",
       "  </tbody>\n",
       "</table>\n",
       "</div>"
      ],
      "text/plain": [
       "   OWE  R03  GSL  3SW  INQ  TJM  0O4  T1N  XA0  4LE\n",
       "0  262  447  215  232  768  395   50  860  863  580\n",
       "1  919  758  549  511  202  661  457  875  160  886\n",
       "2  159  180  447    2  127  812  207  135  317  305\n",
       "3  620  789  825  225  177  250  945  836  159  818\n",
       "4  248  350  773    8  856  937  819  997  327  547"
      ]
     },
     "execution_count": 298,
     "metadata": {},
     "output_type": "execute_result"
    }
   ],
   "source": [
    "z.head()"
   ]
  },
  {
   "cell_type": "code",
   "execution_count": 357,
   "metadata": {},
   "outputs": [],
   "source": [
    "alp = product_recommendation(x,y,z)"
   ]
  },
  {
   "cell_type": "code",
   "execution_count": 372,
   "metadata": {},
   "outputs": [],
   "source": [
    "alp2 = product_recommendation(x,y,z)"
   ]
  }
 ],
 "metadata": {
  "kernelspec": {
   "display_name": "Python 3",
   "language": "python",
   "name": "python3"
  },
  "language_info": {
   "codemirror_mode": {
    "name": "ipython",
    "version": 3
   },
   "file_extension": ".py",
   "mimetype": "text/x-python",
   "name": "python",
   "nbconvert_exporter": "python",
   "pygments_lexer": "ipython3",
   "version": "3.7.6"
  },
  "toc": {
   "base_numbering": 1,
   "nav_menu": {},
   "number_sections": true,
   "sideBar": true,
   "skip_h1_title": false,
   "title_cell": "Table of Contents",
   "title_sidebar": "Contents",
   "toc_cell": false,
   "toc_position": {},
   "toc_section_display": true,
   "toc_window_display": false
  },
  "varInspector": {
   "cols": {
    "lenName": 16,
    "lenType": 16,
    "lenVar": 40
   },
   "kernels_config": {
    "python": {
     "delete_cmd_postfix": "",
     "delete_cmd_prefix": "del ",
     "library": "var_list.py",
     "varRefreshCmd": "print(var_dic_list())"
    },
    "r": {
     "delete_cmd_postfix": ") ",
     "delete_cmd_prefix": "rm(",
     "library": "var_list.r",
     "varRefreshCmd": "cat(var_dic_list()) "
    }
   },
   "types_to_exclude": [
    "module",
    "function",
    "builtin_function_or_method",
    "instance",
    "_Feature"
   ],
   "window_display": false
  }
 },
 "nbformat": 4,
 "nbformat_minor": 4
}
