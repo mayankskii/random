{
 "cells": [
  {
   "cell_type": "code",
   "execution_count": 18,
   "metadata": {},
   "outputs": [],
   "source": [
    "import pandas as pd\n",
    "import string \n",
    "import random\n",
    "from sklearn.model_selection import train_test_split"
   ]
  },
  {
   "cell_type": "code",
   "execution_count": 73,
   "metadata": {},
   "outputs": [],
   "source": [
    "import numpy as np\n",
    "import dask.array as da\n",
    "from scipy.spatial.distance import cdist\n",
    "\n",
    "def product_recommendation(x, y, z, k = 100, n_products = 1, weight = 1, kwargs= {'metric' : 'seuclidean'}):\n",
    "    \"\"\"Recommend products based on nearest neighbours in vector space.\n",
    "    \n",
    "        Parameters\n",
    "        ----------\n",
    "        x : sparse 2-D dataframe of shape (m_samples, n_features), dtype=floating\n",
    "            The input data for which recommendations to be generated.\n",
    "            \n",
    "        y : sparse 2-D dataframe of shape (n_samples, n_features), dtype=floating\n",
    "            The input data having historical samples for product holdings.\n",
    "            \n",
    "        z : sparse 2-D dataframe of shape (n_samples, k_products), dtype=floating\n",
    "            The input data having historical products sold/target.\n",
    "            \n",
    "        k: neighbourhood size\n",
    "        \n",
    "        n_products: no. of products to recommend <=  unique count of k_products\n",
    "        \n",
    "        kwargs: arguments for cdist calculation\n",
    "    \"\"\"\n",
    "    y = y[x.columns]\n",
    "    x,y,z, products_target = tuple(map(np.array, [x,y,z, z.columns]))\n",
    "    \n",
    "    # Neighbourhood\n",
    "    Y = da.from_array(cdist(x, y, **kwargs), chunks='auto')\n",
    "    nearest_ind = Y.argtopk(-k)\n",
    "    nearest_neighbours = np.take(z, nearest_ind, axis = 0)\n",
    "    \n",
    "    # Product frequency\n",
    "    Z = da.from_array(np.einsum('ijk->ik', nearest_neighbours))\n",
    "    products_freq_ind = Z.argtopk(n_products)\n",
    "    products_freq_rec = np.take(products_target, products_freq_ind)\n",
    "    print(Y.shape,nearest_ind.shape, nearest_neighbours.shape,\\\n",
    "  Z.shape,products_freq_ind.shape, products_freq_rec.shape)\n",
    "    \n",
    "    return products_freq_rec"
   ]
  },
  {
   "cell_type": "code",
   "execution_count": 31,
   "metadata": {},
   "outputs": [],
   "source": [
    "data = pd.read_csv(r'/Users/mayankmahawar/Downloads/LS_2.0.csv')"
   ]
  },
  {
   "cell_type": "code",
   "execution_count": 36,
   "metadata": {},
   "outputs": [],
   "source": [
    "data2 = pd.get_dummies(data[['STATE', 'WINNER', 'PARTY']])"
   ]
  },
  {
   "cell_type": "code",
   "execution_count": 37,
   "metadata": {},
   "outputs": [
    {
     "data": {
      "text/plain": [
       "(2263, 170)"
      ]
     },
     "execution_count": 37,
     "metadata": {},
     "output_type": "execute_result"
    }
   ],
   "source": [
    "data2.shape"
   ]
  },
  {
   "cell_type": "code",
   "execution_count": 51,
   "metadata": {},
   "outputs": [],
   "source": [
    "filter_col = [col for col in data2 if col.startswith('PARTY_')]"
   ]
  },
  {
   "cell_type": "code",
   "execution_count": 55,
   "metadata": {},
   "outputs": [],
   "source": [
    "X = data2.loc[:,~(data2.columns.isin(filter_col))]\n",
    "y = data2.loc[:, (data2.columns.isin(filter_col))]"
   ]
  },
  {
   "cell_type": "code",
   "execution_count": 58,
   "metadata": {},
   "outputs": [],
   "source": [
    "X_train, X_test, y_train, y_test = train_test_split(X, y, test_size=0.33, random_state=42)"
   ]
  },
  {
   "cell_type": "code",
   "execution_count": 60,
   "metadata": {},
   "outputs": [
    {
     "name": "stdout",
     "output_type": "stream",
     "text": [
      "(1516, 37) (747, 37) (1516, 133) (747, 133)\n"
     ]
    }
   ],
   "source": [
    "print(X_train.shape, X_test.shape, y_train.shape, y_test.shape)"
   ]
  },
  {
   "cell_type": "code",
   "execution_count": 72,
   "metadata": {},
   "outputs": [
    {
     "ename": "ValueError",
     "evalue": "operand has more dimensions than subscripts given in einstein sum, but no '...' ellipsis provided to broadcast the extra dimensions.",
     "output_type": "error",
     "traceback": [
      "\u001b[0;31m---------------------------------------------------------------------------\u001b[0m",
      "\u001b[0;31mValueError\u001b[0m                                Traceback (most recent call last)",
      "\u001b[0;32m<ipython-input-72-f710c2ed0cff>\u001b[0m in \u001b[0;36m<module>\u001b[0;34m\u001b[0m\n\u001b[0;32m----> 1\u001b[0;31m \u001b[0mout\u001b[0m \u001b[0;34m=\u001b[0m \u001b[0mproduct_recommendation\u001b[0m\u001b[0;34m(\u001b[0m\u001b[0mX_test\u001b[0m\u001b[0;34m,\u001b[0m \u001b[0mX_train\u001b[0m\u001b[0;34m,\u001b[0m \u001b[0my_train\u001b[0m\u001b[0;34m,\u001b[0m \u001b[0mk\u001b[0m\u001b[0;34m=\u001b[0m\u001b[0;36m1000\u001b[0m\u001b[0;34m,\u001b[0m \u001b[0mn_products\u001b[0m \u001b[0;34m=\u001b[0m \u001b[0;36m10\u001b[0m\u001b[0;34m)\u001b[0m\u001b[0;34m\u001b[0m\u001b[0;34m\u001b[0m\u001b[0m\n\u001b[0m",
      "\u001b[0;32m<ipython-input-71-18ed8b88a99e>\u001b[0m in \u001b[0;36mproduct_recommendation\u001b[0;34m(x, y, z, k, n_products, kwargs)\u001b[0m\n\u001b[1;32m     32\u001b[0m \u001b[0;34m\u001b[0m\u001b[0m\n\u001b[1;32m     33\u001b[0m     \u001b[0;31m# Product frequency\u001b[0m\u001b[0;34m\u001b[0m\u001b[0;34m\u001b[0m\u001b[0;34m\u001b[0m\u001b[0m\n\u001b[0;32m---> 34\u001b[0;31m     \u001b[0mZ\u001b[0m \u001b[0;34m=\u001b[0m \u001b[0mda\u001b[0m\u001b[0;34m.\u001b[0m\u001b[0mfrom_array\u001b[0m\u001b[0;34m(\u001b[0m\u001b[0mnp\u001b[0m\u001b[0;34m.\u001b[0m\u001b[0meinsum\u001b[0m\u001b[0;34m(\u001b[0m\u001b[0;34m'ij->ik'\u001b[0m\u001b[0;34m,\u001b[0m \u001b[0mnearest_neighbours\u001b[0m\u001b[0;34m)\u001b[0m\u001b[0;34m)\u001b[0m\u001b[0;34m\u001b[0m\u001b[0;34m\u001b[0m\u001b[0m\n\u001b[0m\u001b[1;32m     35\u001b[0m     \u001b[0mproducts_freq_ind\u001b[0m \u001b[0;34m=\u001b[0m \u001b[0mZ\u001b[0m\u001b[0;34m.\u001b[0m\u001b[0margtopk\u001b[0m\u001b[0;34m(\u001b[0m\u001b[0mn_products\u001b[0m\u001b[0;34m)\u001b[0m\u001b[0;34m\u001b[0m\u001b[0;34m\u001b[0m\u001b[0m\n\u001b[1;32m     36\u001b[0m     \u001b[0mproducts_freq_rec\u001b[0m \u001b[0;34m=\u001b[0m \u001b[0mnp\u001b[0m\u001b[0;34m.\u001b[0m\u001b[0mtake\u001b[0m\u001b[0;34m(\u001b[0m\u001b[0mproducts_target\u001b[0m\u001b[0;34m,\u001b[0m \u001b[0mproducts_freq_ind\u001b[0m\u001b[0;34m)\u001b[0m\u001b[0;34m\u001b[0m\u001b[0;34m\u001b[0m\u001b[0m\n",
      "\u001b[0;32m<__array_function__ internals>\u001b[0m in \u001b[0;36meinsum\u001b[0;34m(*args, **kwargs)\u001b[0m\n",
      "\u001b[0;32m~/anaconda3/lib/python3.7/site-packages/numpy/core/einsumfunc.py\u001b[0m in \u001b[0;36meinsum\u001b[0;34m(*operands, **kwargs)\u001b[0m\n\u001b[1;32m   1354\u001b[0m     \u001b[0;31m# If no optimization, run pure einsum\u001b[0m\u001b[0;34m\u001b[0m\u001b[0;34m\u001b[0m\u001b[0;34m\u001b[0m\u001b[0m\n\u001b[1;32m   1355\u001b[0m     \u001b[0;32mif\u001b[0m \u001b[0moptimize_arg\u001b[0m \u001b[0;32mis\u001b[0m \u001b[0;32mFalse\u001b[0m\u001b[0;34m:\u001b[0m\u001b[0;34m\u001b[0m\u001b[0;34m\u001b[0m\u001b[0m\n\u001b[0;32m-> 1356\u001b[0;31m         \u001b[0;32mreturn\u001b[0m \u001b[0mc_einsum\u001b[0m\u001b[0;34m(\u001b[0m\u001b[0;34m*\u001b[0m\u001b[0moperands\u001b[0m\u001b[0;34m,\u001b[0m \u001b[0;34m**\u001b[0m\u001b[0mkwargs\u001b[0m\u001b[0;34m)\u001b[0m\u001b[0;34m\u001b[0m\u001b[0;34m\u001b[0m\u001b[0m\n\u001b[0m\u001b[1;32m   1357\u001b[0m \u001b[0;34m\u001b[0m\u001b[0m\n\u001b[1;32m   1358\u001b[0m     \u001b[0mvalid_einsum_kwargs\u001b[0m \u001b[0;34m=\u001b[0m \u001b[0;34m[\u001b[0m\u001b[0;34m'out'\u001b[0m\u001b[0;34m,\u001b[0m \u001b[0;34m'dtype'\u001b[0m\u001b[0;34m,\u001b[0m \u001b[0;34m'order'\u001b[0m\u001b[0;34m,\u001b[0m \u001b[0;34m'casting'\u001b[0m\u001b[0;34m]\u001b[0m\u001b[0;34m\u001b[0m\u001b[0;34m\u001b[0m\u001b[0m\n",
      "\u001b[0;31mValueError\u001b[0m: operand has more dimensions than subscripts given in einstein sum, but no '...' ellipsis provided to broadcast the extra dimensions."
     ]
    }
   ],
   "source": [
    "out = product_recommendation(X_test, X_train, y_train, k=1000, n_products = 10)"
   ]
  },
  {
   "cell_type": "code",
   "execution_count": 62,
   "metadata": {},
   "outputs": [
    {
     "name": "stdout",
     "output_type": "stream",
     "text": [
      "(747, 1516) (747, 1000) (747, 1000, 133) (747, 133) (747, 10) (747, 10)\n"
     ]
    }
   ],
   "source": [
    "out = product_recommendation(X_test, X_train, y_train, k=1000, n_products = 10)"
   ]
  },
  {
   "cell_type": "code",
   "execution_count": 66,
   "metadata": {},
   "outputs": [
    {
     "name": "stdout",
     "output_type": "stream",
     "text": [
      "---  ---  ---\n",
      "PARTY_INC    549\n",
      "PARTY_BJP    198\n",
      "Name: 0, dtype: int64\n",
      "---  ---  ---\n",
      "PARTY_NOTA    425\n",
      "PARTY_INC     198\n",
      "PARTY_BJP     124\n",
      "Name: 1, dtype: int64\n",
      "---  ---  ---\n",
      "PARTY_BJP     425\n",
      "PARTY_NOTA    322\n",
      "Name: 2, dtype: int64\n",
      "---  ---  ---\n",
      "PARTY_IND    747\n",
      "Name: 3, dtype: int64\n",
      "---  ---  ---\n",
      "PARTY_BSP    747\n",
      "Name: 4, dtype: int64\n",
      "---  ---  ---\n",
      "PARTY_CPI(M)    747\n",
      "Name: 5, dtype: int64\n",
      "---  ---  ---\n",
      "PARTY_VBA     724\n",
      "PARTY_AITC     23\n",
      "Name: 6, dtype: int64\n",
      "---  ---  ---\n",
      "PARTY_AITC    724\n",
      "PARTY_VBA      23\n",
      "Name: 7, dtype: int64\n",
      "---  ---  ---\n",
      "PARTY_SP    747\n",
      "Name: 8, dtype: int64\n",
      "---  ---  ---\n",
      "PARTY_NTK    747\n",
      "Name: 9, dtype: int64\n"
     ]
    }
   ],
   "source": [
    "for i in pd.DataFrame(out).columns:\n",
    "    print('---  ---  ---')\n",
    "    print(pd.DataFrame(out)[i].value_counts())"
   ]
  },
  {
   "cell_type": "code",
   "execution_count": 8,
   "metadata": {},
   "outputs": [
    {
     "ename": "NameError",
     "evalue": "name 'Y' is not defined",
     "output_type": "error",
     "traceback": [
      "\u001b[0;31m---------------------------------------------------------------------------\u001b[0m",
      "\u001b[0;31mNameError\u001b[0m                                 Traceback (most recent call last)",
      "\u001b[0;32m<ipython-input-8-917ef2ce808f>\u001b[0m in \u001b[0;36m<module>\u001b[0;34m\u001b[0m\n\u001b[0;32m----> 1\u001b[0;31m print(Y.shape,nearest_ind.shape, nearest_neighbours.shape,\\\n\u001b[0m\u001b[1;32m      2\u001b[0m   Z.shape,products_freq_ind.shape, products_freq_rec.shape)\n\u001b[1;32m      3\u001b[0m \u001b[0;34m(\u001b[0m\u001b[0;36m260\u001b[0m\u001b[0;34m,\u001b[0m \u001b[0;36m140\u001b[0m\u001b[0;34m)\u001b[0m \u001b[0;34m(\u001b[0m\u001b[0;36m260\u001b[0m\u001b[0;34m,\u001b[0m \u001b[0;36m100\u001b[0m\u001b[0;34m)\u001b[0m \u001b[0;34m(\u001b[0m\u001b[0;36m260\u001b[0m\u001b[0;34m,\u001b[0m \u001b[0;36m100\u001b[0m\u001b[0;34m,\u001b[0m \u001b[0;36m10\u001b[0m\u001b[0;34m)\u001b[0m \u001b[0;34m(\u001b[0m\u001b[0;36m260\u001b[0m\u001b[0;34m,\u001b[0m \u001b[0;36m10\u001b[0m\u001b[0;34m)\u001b[0m \u001b[0;34m(\u001b[0m\u001b[0;36m260\u001b[0m\u001b[0;34m,\u001b[0m \u001b[0;36m1\u001b[0m\u001b[0;34m)\u001b[0m \u001b[0;34m(\u001b[0m\u001b[0;36m260\u001b[0m\u001b[0;34m,\u001b[0m \u001b[0;36m1\u001b[0m\u001b[0;34m)\u001b[0m\u001b[0;34m\u001b[0m\u001b[0;34m\u001b[0m\u001b[0m\n",
      "\u001b[0;31mNameError\u001b[0m: name 'Y' is not defined"
     ]
    }
   ],
   "source": [
    "print(Y.shape,nearest_ind.shape, nearest_neighbours.shape,\\\n",
    "  Z.shape,products_freq_ind.shape, products_freq_rec.shape)\n",
    "(260, 140) (260, 100) (260, 100, 10) (260, 10) (260, 1) (260, 1)"
   ]
  },
  {
   "cell_type": "code",
   "execution_count": 7,
   "metadata": {},
   "outputs": [],
   "source": [
    "x_col = [''.join(random.choices(string.ascii_uppercase +string.digits, k = 3)) for _ in range(22)] \n",
    "x = pd.DataFrame(np.random.randint(1e3, size=(260,22), dtype='int32'), columns = x_col)\n",
    "\n",
    "y = pd.DataFrame(np.random.randint(1e3, size=(140,22) , dtype='int32'), columns = x_col)\n",
    "\n",
    "z_col = [''.join(random.choices(string.ascii_uppercase +string.digits, k = 3)) for _ in range(10)] \n",
    "z = pd.DataFrame(np.random.randint(1e3, size=(140,10) , dtype='int32'), columns = z_col)"
   ]
  },
  {
   "cell_type": "code",
   "execution_count": 11,
   "metadata": {},
   "outputs": [
    {
     "name": "stdout",
     "output_type": "stream",
     "text": [
      "(260, 140) (260, 100) (260, 100, 10) (260, 10) (260, 1) (260, 1)\n"
     ]
    }
   ],
   "source": [
    "alp3 = product_recommendation(x,y,z)"
   ]
  },
  {
   "cell_type": "code",
   "execution_count": 376,
   "metadata": {},
   "outputs": [],
   "source": [
    "x_col = [''.join(random.choices(string.ascii_uppercase +string.digits, k = 3)) for _ in range(22)] \n",
    "x = pd.DataFrame(np.random.randint(1e3, size=(260,22), dtype='int32'), columns = x_col)\n",
    "\n",
    "y = pd.DataFrame(np.random.randint(1e3, size=(140,22) , dtype='int32'), columns = x_col)\n",
    "\n",
    "z_col = [''.join(random.choices(string.ascii_uppercase +string.digits, k = 3)) for _ in range(10)] \n",
    "z = pd.DataFrame(np.random.randint(1e3, size=(140,10) , dtype='int32'), columns = z_col)"
   ]
  },
  {
   "cell_type": "code",
   "execution_count": 298,
   "metadata": {},
   "outputs": [
    {
     "data": {
      "text/html": [
       "<div>\n",
       "<style scoped>\n",
       "    .dataframe tbody tr th:only-of-type {\n",
       "        vertical-align: middle;\n",
       "    }\n",
       "\n",
       "    .dataframe tbody tr th {\n",
       "        vertical-align: top;\n",
       "    }\n",
       "\n",
       "    .dataframe thead th {\n",
       "        text-align: right;\n",
       "    }\n",
       "</style>\n",
       "<table border=\"1\" class=\"dataframe\">\n",
       "  <thead>\n",
       "    <tr style=\"text-align: right;\">\n",
       "      <th></th>\n",
       "      <th>OWE</th>\n",
       "      <th>R03</th>\n",
       "      <th>GSL</th>\n",
       "      <th>3SW</th>\n",
       "      <th>INQ</th>\n",
       "      <th>TJM</th>\n",
       "      <th>0O4</th>\n",
       "      <th>T1N</th>\n",
       "      <th>XA0</th>\n",
       "      <th>4LE</th>\n",
       "    </tr>\n",
       "  </thead>\n",
       "  <tbody>\n",
       "    <tr>\n",
       "      <th>0</th>\n",
       "      <td>262</td>\n",
       "      <td>447</td>\n",
       "      <td>215</td>\n",
       "      <td>232</td>\n",
       "      <td>768</td>\n",
       "      <td>395</td>\n",
       "      <td>50</td>\n",
       "      <td>860</td>\n",
       "      <td>863</td>\n",
       "      <td>580</td>\n",
       "    </tr>\n",
       "    <tr>\n",
       "      <th>1</th>\n",
       "      <td>919</td>\n",
       "      <td>758</td>\n",
       "      <td>549</td>\n",
       "      <td>511</td>\n",
       "      <td>202</td>\n",
       "      <td>661</td>\n",
       "      <td>457</td>\n",
       "      <td>875</td>\n",
       "      <td>160</td>\n",
       "      <td>886</td>\n",
       "    </tr>\n",
       "    <tr>\n",
       "      <th>2</th>\n",
       "      <td>159</td>\n",
       "      <td>180</td>\n",
       "      <td>447</td>\n",
       "      <td>2</td>\n",
       "      <td>127</td>\n",
       "      <td>812</td>\n",
       "      <td>207</td>\n",
       "      <td>135</td>\n",
       "      <td>317</td>\n",
       "      <td>305</td>\n",
       "    </tr>\n",
       "    <tr>\n",
       "      <th>3</th>\n",
       "      <td>620</td>\n",
       "      <td>789</td>\n",
       "      <td>825</td>\n",
       "      <td>225</td>\n",
       "      <td>177</td>\n",
       "      <td>250</td>\n",
       "      <td>945</td>\n",
       "      <td>836</td>\n",
       "      <td>159</td>\n",
       "      <td>818</td>\n",
       "    </tr>\n",
       "    <tr>\n",
       "      <th>4</th>\n",
       "      <td>248</td>\n",
       "      <td>350</td>\n",
       "      <td>773</td>\n",
       "      <td>8</td>\n",
       "      <td>856</td>\n",
       "      <td>937</td>\n",
       "      <td>819</td>\n",
       "      <td>997</td>\n",
       "      <td>327</td>\n",
       "      <td>547</td>\n",
       "    </tr>\n",
       "  </tbody>\n",
       "</table>\n",
       "</div>"
      ],
      "text/plain": [
       "   OWE  R03  GSL  3SW  INQ  TJM  0O4  T1N  XA0  4LE\n",
       "0  262  447  215  232  768  395   50  860  863  580\n",
       "1  919  758  549  511  202  661  457  875  160  886\n",
       "2  159  180  447    2  127  812  207  135  317  305\n",
       "3  620  789  825  225  177  250  945  836  159  818\n",
       "4  248  350  773    8  856  937  819  997  327  547"
      ]
     },
     "execution_count": 298,
     "metadata": {},
     "output_type": "execute_result"
    }
   ],
   "source": [
    "z.head()"
   ]
  },
  {
   "cell_type": "code",
   "execution_count": 357,
   "metadata": {},
   "outputs": [],
   "source": [
    "alp = product_recommendation(x,y,z)"
   ]
  },
  {
   "cell_type": "code",
   "execution_count": 372,
   "metadata": {},
   "outputs": [],
   "source": [
    "alp2 = product_recommendation(x,y,z)"
   ]
  }
 ],
 "metadata": {
  "kernelspec": {
   "display_name": "Python 3",
   "language": "python",
   "name": "python3"
  },
  "language_info": {
   "codemirror_mode": {
    "name": "ipython",
    "version": 3
   },
   "file_extension": ".py",
   "mimetype": "text/x-python",
   "name": "python",
   "nbconvert_exporter": "python",
   "pygments_lexer": "ipython3",
   "version": "3.7.6"
  },
  "toc": {
   "base_numbering": 1,
   "nav_menu": {},
   "number_sections": true,
   "sideBar": true,
   "skip_h1_title": false,
   "title_cell": "Table of Contents",
   "title_sidebar": "Contents",
   "toc_cell": false,
   "toc_position": {},
   "toc_section_display": true,
   "toc_window_display": false
  },
  "varInspector": {
   "cols": {
    "lenName": 16,
    "lenType": 16,
    "lenVar": 40
   },
   "kernels_config": {
    "python": {
     "delete_cmd_postfix": "",
     "delete_cmd_prefix": "del ",
     "library": "var_list.py",
     "varRefreshCmd": "print(var_dic_list())"
    },
    "r": {
     "delete_cmd_postfix": ") ",
     "delete_cmd_prefix": "rm(",
     "library": "var_list.r",
     "varRefreshCmd": "cat(var_dic_list()) "
    }
   },
   "types_to_exclude": [
    "module",
    "function",
    "builtin_function_or_method",
    "instance",
    "_Feature"
   ],
   "window_display": false
  }
 },
 "nbformat": 4,
 "nbformat_minor": 4
}
