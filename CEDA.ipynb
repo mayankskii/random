{
 "cells": [
  {
   "cell_type": "code",
   "execution_count": 154,
   "id": "251da49d",
   "metadata": {},
   "outputs": [],
   "source": [
    "import pandas as pd\n",
    "import numpy as np\n",
    "import requests \n",
    "from bs4 import BeautifulSoup\n",
    "import json\n",
    "import time\n",
    "from tqdm.notebook import tqdm"
   ]
  },
  {
   "cell_type": "code",
   "execution_count": 2,
   "id": "8980ee3e",
   "metadata": {},
   "outputs": [],
   "source": [
    "URL = \"https://www.metoffice.gov.uk/research/climate/maps-and-data/historic-station-data\"\n",
    "r = requests.get(URL,'xml')\n",
    "  \n",
    "soup = BeautifulSoup(r.content, 'xml') \n",
    "xml = soup.prettify()"
   ]
  },
  {
   "cell_type": "code",
   "execution_count": 1,
   "id": "143a9c17",
   "metadata": {},
   "outputs": [],
   "source": [
    "# print(xml)"
   ]
  },
  {
   "cell_type": "code",
   "execution_count": 38,
   "id": "94e571a4",
   "metadata": {},
   "outputs": [],
   "source": [
    "station_list = [i.text for i in soup.find_all('td')[0::4]]\n",
    "station_coordinates = [i.text for i in soup.find_all('td')[1::4]]\n",
    "station_start_year = [i.text for i in soup.find_all('td')[2::4]]\n",
    "station_link = [i.a['href'] for i in soup.find_all('td')[3::4]]"
   ]
  },
  {
   "cell_type": "code",
   "execution_count": 61,
   "id": "f7952d1a",
   "metadata": {},
   "outputs": [],
   "source": [
    "df = pd.DataFrame({'station_list': station_list,\n",
    "              'station_coordinates': station_coordinates,\n",
    "              'station_start_year': station_start_year,\n",
    "              'station_link': station_link,\n",
    "             })"
   ]
  },
  {
   "cell_type": "code",
   "execution_count": 64,
   "id": "375c3dc6",
   "metadata": {},
   "outputs": [],
   "source": [
    "URL = df['station_link'][0]\n",
    "r = requests.get(URL)"
   ]
  },
  {
   "cell_type": "code",
   "execution_count": 181,
   "id": "053ba4d1",
   "metadata": {},
   "outputs": [
    {
     "data": {
      "application/vnd.jupyter.widget-view+json": {
       "model_id": "366dcde4e98241239a71876b2a4320df",
       "version_major": 2,
       "version_minor": 0
      },
      "text/plain": [
       "0it [00:00, ?it/s]"
      ]
     },
     "metadata": {},
     "output_type": "display_data"
    },
    {
     "name": "stderr",
     "output_type": "stream",
     "text": [
      "C:\\Users\\rockm\\AppData\\Local\\Temp/ipykernel_2168/2388208685.py:19: FutureWarning: The default value of regex will change from True to False in a future version.\n",
      "  sdf['sun(hours)'] = sdf['sun(hours)'].str.replace(r'\\*|#', '')\n"
     ]
    }
   ],
   "source": [
    "dfs = []\n",
    "for i, j in tqdm(zip(df['station_link'], df['station_list'])):\n",
    "    time.sleep(np.random.randint(3) + np.random.random())\n",
    "    r = requests.get(i)\n",
    "    some_list = [[i for i in f.split(' ') if i not in ['']] for f in \\\n",
    "                 r.text.split('              degC    degC    days      mm   hours\\r\\n')[1].split('\\r\\n')]\n",
    "    sdf = pd.DataFrame(some_list)\n",
    "    if sdf.shape[1]==8:\n",
    "        sdf = pd.DataFrame(some_list, columns=['year', 'month', 'tmax(degC)', 'tmin(degC)', 'air_frost(days)', \\\n",
    "                                               'rainfall(mm)', 'sun(hours)', 'provisional'])\n",
    "    elif sdf.shape[1]==7:\n",
    "        sdf = pd.DataFrame(some_list, columns=['year', 'month', 'tmax(degC)', 'tmin(degC)', 'air_frost(days)', \\\n",
    "                                           'rainfall(mm)', 'sun(hours)'])\n",
    "    else:\n",
    "        sdf = pd.DataFrame(some_list, columns=['year', 'month', 'tmax(degC)', 'tmin(degC)', 'air_frost(days)', \\\n",
    "                                           'rainfall(mm)', 'sun(hours)', 'provisional', 'add1', 'add2'])    \n",
    "    sdf['sunshine_sensor'] = sdf['sun(hours)'].str.contains(r'\\*|#').replace({True: 'automatic Kipp & Zonen sensor', \\\n",
    "                                                                          False: 'Campbell Stokes recorder'})\n",
    "    sdf['sun(hours)'] = sdf['sun(hours)'].str.replace(r'\\*|#', '')\n",
    "    try:\n",
    "        sdf['provisional'] = sdf['provisional'].replace({None: 0, 'Provisional': 1})\n",
    "    except:\n",
    "        pass\n",
    "    sdf = sdf.replace('---', np.nan)\n",
    "    sdf.insert(0, 'station_location', j)\n",
    "    dfs.append(sdf)"
   ]
  },
  {
   "cell_type": "code",
   "execution_count": 180,
   "id": "c3bcd128",
   "metadata": {},
   "outputs": [],
   "source": [
    "# df2 = dfs.copy()"
   ]
  },
  {
   "cell_type": "code",
   "execution_count": 184,
   "id": "b6638fb2",
   "metadata": {},
   "outputs": [],
   "source": [
    "oof = pd.concat(dfs, ignore_index=True)"
   ]
  },
  {
   "cell_type": "code",
   "execution_count": 186,
   "id": "123914bc",
   "metadata": {},
   "outputs": [],
   "source": [
    "oof.to_excel('met_station_data.xlsx', index=False)"
   ]
  },
  {
   "cell_type": "code",
   "execution_count": 47,
   "id": "da88a78c",
   "metadata": {},
   "outputs": [],
   "source": [
    "# URL = \"https://findthatpostcode.uk/points/52.13914%2C-4.56999.json\"\n",
    "# r = requests.get(URL)\n",
    "# soup = BeautifulSoup(r.content, 'html')\n",
    "# site_json=json.loads(soup.text)\n",
    "# site_json"
   ]
  },
  {
   "cell_type": "code",
   "execution_count": 188,
   "id": "13852e4e",
   "metadata": {},
   "outputs": [
    {
     "name": "stdout",
     "output_type": "stream",
     "text": [
      "Note: you may need to restart the kernel to use updated packages.\n"
     ]
    }
   ],
   "source": [
    "%pip install netCDF4 -q"
   ]
  },
  {
   "cell_type": "code",
   "execution_count": 340,
   "id": "c595f91b",
   "metadata": {},
   "outputs": [],
   "source": [
    "import netCDF4 as nc\n",
    "fn = r\"C:\\Users\\rockm\\Downloads\\sfcWind_hadukgrid_uk_1km_ann_202001-202012.nc\"\n",
    "ds = nc.Dataset(fn)"
   ]
  },
  {
   "cell_type": "code",
   "execution_count": 191,
   "id": "632cb99f",
   "metadata": {},
   "outputs": [
    {
     "data": {
      "text/plain": [
       "<class 'netCDF4._netCDF4.Dataset'>\n",
       "root group (NETCDF4 data model, file format HDF5):\n",
       "    comment: annual resolution gridded climate observations\n",
       "    creation_date: 2021-07-12T19:59:14\n",
       "    frequency: ann\n",
       "    institution: Met Office\n",
       "    references: doi: 10.1002/joc.1161\n",
       "    short_name: annual_windspeed\n",
       "    source: HadUK-Grid_v1.0.3.0\n",
       "    title: Gridded surface climate observations data for the UK\n",
       "    version: v20210712\n",
       "    Conventions: CF-1.7\n",
       "    dimensions(sizes): time(1), projection_y_coordinate(1450), projection_x_coordinate(900), bnds(2)\n",
       "    variables(dimensions): float64 sfcWind(time, projection_y_coordinate, projection_x_coordinate), int32 transverse_mercator(), float64 time(time), float64 time_bnds(time, bnds), float64 projection_y_coordinate(projection_y_coordinate), float64 projection_y_coordinate_bnds(projection_y_coordinate, bnds), float64 projection_x_coordinate(projection_x_coordinate), float64 projection_x_coordinate_bnds(projection_x_coordinate, bnds), float64 latitude(projection_y_coordinate, projection_x_coordinate), float64 longitude(projection_y_coordinate, projection_x_coordinate)\n",
       "    groups: "
      ]
     },
     "execution_count": 191,
     "metadata": {},
     "output_type": "execute_result"
    }
   ],
   "source": [
    "ds"
   ]
  },
  {
   "cell_type": "code",
   "execution_count": 329,
   "id": "e171f9b7",
   "metadata": {},
   "outputs": [
    {
     "data": {
      "text/plain": [
       "{'sfcWind': <class 'netCDF4._netCDF4.Variable'>\n",
       " float64 sfcWind(time, projection_y_coordinate, projection_x_coordinate)\n",
       "     _FillValue: 1e+20\n",
       "     standard_name: wind_speed\n",
       "     long_name: Wind speed at 10m\n",
       "     units: m s-1\n",
       "     description: Wind speed\n",
       "     label_units: m s-1\n",
       "     level: 10m\n",
       "     plot_label: Wind speed at 10m (m s-1)\n",
       "     cell_methods: time: mean time: mean\n",
       "     grid_mapping: transverse_mercator\n",
       "     coordinates: latitude longitude\n",
       " unlimited dimensions: \n",
       " current shape = (1, 1450, 900)\n",
       " filling on,\n",
       " 'transverse_mercator': <class 'netCDF4._netCDF4.Variable'>\n",
       " int32 transverse_mercator()\n",
       "     grid_mapping_name: transverse_mercator\n",
       "     longitude_of_prime_meridian: 0.0\n",
       "     semi_major_axis: 6377563.396\n",
       "     semi_minor_axis: 6356256.909\n",
       "     longitude_of_central_meridian: -2.0\n",
       "     latitude_of_projection_origin: 49.0\n",
       "     false_easting: 400000.0\n",
       "     false_northing: -100000.0\n",
       "     scale_factor_at_central_meridian: 0.9996012717\n",
       " unlimited dimensions: \n",
       " current shape = ()\n",
       " filling on, default _FillValue of -2147483647 used,\n",
       " 'time': <class 'netCDF4._netCDF4.Variable'>\n",
       " float64 time(time)\n",
       "     axis: T\n",
       "     bounds: time_bnds\n",
       "     units: hours since 1800-01-01 00:00:00\n",
       "     standard_name: time\n",
       "     calendar: gregorian\n",
       " unlimited dimensions: \n",
       " current shape = (1,)\n",
       " filling on, default _FillValue of 9.969209968386869e+36 used,\n",
       " 'time_bnds': <class 'netCDF4._netCDF4.Variable'>\n",
       " float64 time_bnds(time, bnds)\n",
       " unlimited dimensions: \n",
       " current shape = (1, 2)\n",
       " filling on, default _FillValue of 9.969209968386869e+36 used,\n",
       " 'projection_y_coordinate': <class 'netCDF4._netCDF4.Variable'>\n",
       " float64 projection_y_coordinate(projection_y_coordinate)\n",
       "     axis: Y\n",
       "     bounds: projection_y_coordinate_bnds\n",
       "     units: m\n",
       "     standard_name: projection_y_coordinate\n",
       " unlimited dimensions: \n",
       " current shape = (1450,)\n",
       " filling on, default _FillValue of 9.969209968386869e+36 used,\n",
       " 'projection_y_coordinate_bnds': <class 'netCDF4._netCDF4.Variable'>\n",
       " float64 projection_y_coordinate_bnds(projection_y_coordinate, bnds)\n",
       " unlimited dimensions: \n",
       " current shape = (1450, 2)\n",
       " filling on, default _FillValue of 9.969209968386869e+36 used,\n",
       " 'projection_x_coordinate': <class 'netCDF4._netCDF4.Variable'>\n",
       " float64 projection_x_coordinate(projection_x_coordinate)\n",
       "     axis: X\n",
       "     bounds: projection_x_coordinate_bnds\n",
       "     units: m\n",
       "     standard_name: projection_x_coordinate\n",
       " unlimited dimensions: \n",
       " current shape = (900,)\n",
       " filling on, default _FillValue of 9.969209968386869e+36 used,\n",
       " 'projection_x_coordinate_bnds': <class 'netCDF4._netCDF4.Variable'>\n",
       " float64 projection_x_coordinate_bnds(projection_x_coordinate, bnds)\n",
       " unlimited dimensions: \n",
       " current shape = (900, 2)\n",
       " filling on, default _FillValue of 9.969209968386869e+36 used,\n",
       " 'latitude': <class 'netCDF4._netCDF4.Variable'>\n",
       " float64 latitude(projection_y_coordinate, projection_x_coordinate)\n",
       "     units: degrees_north\n",
       "     standard_name: latitude\n",
       " unlimited dimensions: \n",
       " current shape = (1450, 900)\n",
       " filling on, default _FillValue of 9.969209968386869e+36 used,\n",
       " 'longitude': <class 'netCDF4._netCDF4.Variable'>\n",
       " float64 longitude(projection_y_coordinate, projection_x_coordinate)\n",
       "     units: degrees_east\n",
       "     standard_name: longitude\n",
       " unlimited dimensions: \n",
       " current shape = (1450, 900)\n",
       " filling on, default _FillValue of 9.969209968386869e+36 used}"
      ]
     },
     "execution_count": 329,
     "metadata": {},
     "output_type": "execute_result"
    }
   ],
   "source": [
    "ds.variables"
   ]
  },
  {
   "cell_type": "code",
   "execution_count": 382,
   "id": "122c0957",
   "metadata": {},
   "outputs": [
    {
     "data": {
      "text/plain": [
       "masked_array(data=6.85199285,\n",
       "             mask=False,\n",
       "       fill_value=1e+20)"
      ]
     },
     "execution_count": 382,
     "metadata": {},
     "output_type": "execute_result"
    }
   ],
   "source": [
    "ds.variables['sfcWind'][0, 400, 405]"
   ]
  },
  {
   "cell_type": "code",
   "execution_count": 383,
   "id": "3c1d7248",
   "metadata": {},
   "outputs": [
    {
     "data": {
      "text/plain": [
       "(200500.0, 205500.0)"
      ]
     },
     "execution_count": 383,
     "metadata": {},
     "output_type": "execute_result"
    }
   ],
   "source": [
    "ds.variables['projection_y_coordinate'][:][400], ds.variables['projection_x_coordinate'][:][405]"
   ]
  },
  {
   "cell_type": "code",
   "execution_count": 394,
   "id": "d981aa25",
   "metadata": {},
   "outputs": [
    {
     "name": "stdout",
     "output_type": "stream",
     "text": [
      "51.669090121947875 -4.813029317373068\n",
      "51.6780715139834 -4.81358620267212\n"
     ]
    }
   ],
   "source": [
    "print(ds.variables['latitude'][:][400, 405], ds.variables['longitude'][:][400, 405])\n",
    "print(ds.variables['latitude'][:][401, 405], ds.variables['longitude'][:][401, 405])"
   ]
  },
  {
   "cell_type": "code",
   "execution_count": 405,
   "id": "b14c347f",
   "metadata": {},
   "outputs": [
    {
     "data": {
      "text/plain": [
       "False"
      ]
     },
     "execution_count": 405,
     "metadata": {},
     "output_type": "execute_result"
    }
   ],
   "source": [
    "a = ds.variables['longitude'][:][:, 405]\n",
    "np.all(np.diff(a) >= 0)"
   ]
  },
  {
   "cell_type": "code",
   "execution_count": 404,
   "id": "c361d226",
   "metadata": {},
   "outputs": [
    {
     "data": {
      "text/plain": [
       "(1249500.0, 699500.0)"
      ]
     },
     "execution_count": 404,
     "metadata": {},
     "output_type": "execute_result"
    }
   ],
   "source": [
    "ds.variables['projection_y_coordinate'][:][-1], ds.variables['projection_x_coordinate'][:][-1]"
   ]
  },
  {
   "cell_type": "code",
   "execution_count": null,
   "id": "2f7e24a5",
   "metadata": {},
   "outputs": [],
   "source": []
  },
  {
   "cell_type": "code",
   "execution_count": 230,
   "id": "f145896e",
   "metadata": {},
   "outputs": [
    {
     "data": {
      "text/plain": [
       "Timestamp('2020-07-02 00:00:00')"
      ]
     },
     "execution_count": 230,
     "metadata": {},
     "output_type": "execute_result"
    }
   ],
   "source": [
    "pd.Timestamp('1800-01-01') + pd.tseries.offsets.DateOffset(hours=1932864)"
   ]
  },
  {
   "cell_type": "code",
   "execution_count": 299,
   "id": "eb9cb85f",
   "metadata": {},
   "outputs": [
    {
     "data": {
      "text/plain": [
       "masked_array(\n",
       "  data=[[47.82437686, 47.82530568, 47.82623299, ..., 48.03540431,\n",
       "         48.0349378 , 48.03446974],\n",
       "        [47.83328709, 47.83421619, 47.83514379, ..., 48.04438033,\n",
       "         48.04391368, 48.04344547],\n",
       "        [47.84219727, 47.84312667, 47.84405455, ..., 48.05335634,\n",
       "         48.05288954, 48.05242118],\n",
       "        ...,\n",
       "        [60.6577134 , 60.65920612, 60.66069645, ..., 60.99795737,\n",
       "         60.99720274, 60.99644561],\n",
       "        [60.66652742, 60.66802068, 60.66951154, ..., 61.00689465,\n",
       "         61.00613976, 61.00538235],\n",
       "        [60.67534134, 60.67683513, 60.67832653, ..., 61.01583191,\n",
       "         61.01507673, 61.01431905]],\n",
       "  mask=False,\n",
       "  fill_value=1e+20)"
      ]
     },
     "execution_count": 299,
     "metadata": {},
     "output_type": "execute_result"
    }
   ],
   "source": [
    "ds.variables['latitude'][:]"
   ]
  },
  {
   "cell_type": "code",
   "execution_count": 298,
   "id": "ce811e55",
   "metadata": {},
   "outputs": [
    {
     "data": {
      "text/plain": [
       "-200000.0"
      ]
     },
     "execution_count": 298,
     "metadata": {},
     "output_type": "execute_result"
    }
   ],
   "source": [
    "ds.variables['projection_y_coordinate_bnds'][:][0, 0]"
   ]
  },
  {
   "cell_type": "code",
   "execution_count": 371,
   "id": "4ebd2506",
   "metadata": {},
   "outputs": [
    {
     "data": {
      "text/plain": [
       "((1450, 900), (1450, 900))"
      ]
     },
     "execution_count": 371,
     "metadata": {},
     "output_type": "execute_result"
    }
   ],
   "source": [
    "ds.variables['latitude'].shape, ds.variables['longitude'].shape"
   ]
  },
  {
   "cell_type": "code",
   "execution_count": 431,
   "id": "fa5ffb0e",
   "metadata": {},
   "outputs": [
    {
     "data": {
      "text/plain": [
       "1305000"
      ]
     },
     "execution_count": 431,
     "metadata": {},
     "output_type": "execute_result"
    }
   ],
   "source": [
    "1450*900"
   ]
  },
  {
   "cell_type": "code",
   "execution_count": 427,
   "id": "ff131226",
   "metadata": {},
   "outputs": [],
   "source": [
    "a = np.array([ds.variables['latitude'][:][400, 405], ds.variables['longitude'][:][400, 405]])"
   ]
  },
  {
   "cell_type": "code",
   "execution_count": 428,
   "id": "6250aa93",
   "metadata": {},
   "outputs": [
    {
     "data": {
      "text/plain": [
       "array([51.66909012, -4.81302932])"
      ]
     },
     "execution_count": 428,
     "metadata": {},
     "output_type": "execute_result"
    }
   ],
   "source": [
    "a"
   ]
  },
  {
   "cell_type": "code",
   "execution_count": 430,
   "id": "c04491d1",
   "metadata": {},
   "outputs": [
    {
     "data": {
      "text/plain": [
       "(205500.0,\n",
       " masked_array(data=[200000., 201000.],\n",
       "              mask=False,\n",
       "        fill_value=1e+20))"
      ]
     },
     "execution_count": 430,
     "metadata": {},
     "output_type": "execute_result"
    }
   ],
   "source": [
    "ds.variables['projection_x_coordinate'][:][405], ds.variables['projection_y_coordinate_bnds'][:][400]"
   ]
  },
  {
   "cell_type": "code",
   "execution_count": null,
   "id": "38da1f4f",
   "metadata": {},
   "outputs": [],
   "source": []
  },
  {
   "cell_type": "code",
   "execution_count": 424,
   "id": "ff28d42e",
   "metadata": {},
   "outputs": [],
   "source": [
    "from scipy.optimize import minimize\n",
    "def objective(idx):\n",
    "    i, j = idx\n",
    "    print(idx)\n",
    "    a = np.array([ds.variables['latitude'][:][i, j], ds.variables['longitude'][:][i, j]])\n",
    "    print(a)\n",
    "    b = np.array([47.824000, -10.0129000])\n",
    "    return np.linalg.norm(a-b)"
   ]
  },
  {
   "cell_type": "code",
   "execution_count": null,
   "id": "24227681",
   "metadata": {},
   "outputs": [],
   "source": [
    "res = minimize(objective, np.array([400, 405]), bounds = ((0, 1450), (0, 900)))"
   ]
  },
  {
   "cell_type": "code",
   "execution_count": 303,
   "id": "ec3b16f9",
   "metadata": {},
   "outputs": [
    {
     "data": {
      "text/plain": [
       "2.0136966587213836"
      ]
     },
     "execution_count": 303,
     "metadata": {},
     "output_type": "execute_result"
    }
   ],
   "source": [
    "find_nearest(.flatten(), )"
   ]
  },
  {
   "cell_type": "code",
   "execution_count": 304,
   "id": "96ac0fb7",
   "metadata": {},
   "outputs": [
    {
     "data": {
      "text/plain": [
       "2699"
      ]
     },
     "execution_count": 304,
     "metadata": {},
     "output_type": "execute_result"
    }
   ],
   "source": [
    "np.argmin()"
   ]
  },
  {
   "cell_type": "code",
   "execution_count": 355,
   "id": "a5451300",
   "metadata": {},
   "outputs": [
    {
     "data": {
      "text/plain": [
       "(405, 79)"
      ]
     },
     "execution_count": 355,
     "metadata": {},
     "output_type": "execute_result"
    }
   ],
   "source": [
    "A = ds.variables['latitude'][:]\n",
    "np.unravel_index(np.abs(A-(51.5072)).argmin(), A.shape)"
   ]
  },
  {
   "cell_type": "code",
   "execution_count": 356,
   "id": "201c5b10",
   "metadata": {},
   "outputs": [
    {
     "data": {
      "text/plain": [
       "(703, 721)"
      ]
     },
     "execution_count": 356,
     "metadata": {},
     "output_type": "execute_result"
    }
   ],
   "source": [
    "A = ds.variables['longitude'][:]\n",
    "np.unravel_index(np.abs(A-(-0.1276)).argmin(), A.shape)"
   ]
  },
  {
   "cell_type": "code",
   "execution_count": 357,
   "id": "43a000ff",
   "metadata": {},
   "outputs": [
    {
     "data": {
      "text/plain": [
       "masked"
      ]
     },
     "execution_count": 357,
     "metadata": {},
     "output_type": "execute_result"
    }
   ],
   "source": [
    "ds.variables['sfcWind'][:][0, 405, 79]"
   ]
  },
  {
   "cell_type": "code",
   "execution_count": 358,
   "id": "db3aead1",
   "metadata": {},
   "outputs": [
    {
     "data": {
      "text/plain": [
       "masked"
      ]
     },
     "execution_count": 358,
     "metadata": {},
     "output_type": "execute_result"
    }
   ],
   "source": [
    "ds.variables['sfcWind'][:][0, 703, 721]"
   ]
  },
  {
   "cell_type": "code",
   "execution_count": 365,
   "id": "440d5937",
   "metadata": {},
   "outputs": [
    {
     "data": {
      "text/plain": [
       "masked_array(data=[205000., 206000.],\n",
       "             mask=False,\n",
       "       fill_value=1e+20)"
      ]
     },
     "execution_count": 365,
     "metadata": {},
     "output_type": "execute_result"
    }
   ],
   "source": [
    "ds.variables['projection_y_coordinate_bnds'][:][405, :]"
   ]
  },
  {
   "cell_type": "code",
   "execution_count": 367,
   "id": "4fd91714",
   "metadata": {},
   "outputs": [
    {
     "data": {
      "text/plain": [
       "205500.0"
      ]
     },
     "execution_count": 367,
     "metadata": {},
     "output_type": "execute_result"
    }
   ],
   "source": [
    "ds.variables['projection_y_coordinate'][:][405]"
   ]
  },
  {
   "cell_type": "code",
   "execution_count": null,
   "id": "39cbb0d1",
   "metadata": {},
   "outputs": [],
   "source": []
  },
  {
   "cell_type": "code",
   "execution_count": 324,
   "id": "781b7d64",
   "metadata": {},
   "outputs": [
    {
     "data": {
      "text/plain": [
       "array([7.9356436 , 7.99015932, 8.02001338, ..., 9.92312173, 8.69825802,\n",
       "       8.28347462])"
      ]
     },
     "execution_count": 324,
     "metadata": {},
     "output_type": "execute_result"
    }
   ],
   "source": [
    "ds.variables['sfcWind'][:][0, :].data[~ds.variables['sfcWind'][:][0, :].mask]"
   ]
  },
  {
   "cell_type": "code",
   "execution_count": 328,
   "id": "691c7918",
   "metadata": {},
   "outputs": [
    {
     "data": {
      "text/plain": [
       "(1450, 900)"
      ]
     },
     "execution_count": 328,
     "metadata": {},
     "output_type": "execute_result"
    }
   ],
   "source": [
    "A.shape"
   ]
  },
  {
   "cell_type": "code",
   "execution_count": 301,
   "id": "b6f0f6da",
   "metadata": {},
   "outputs": [
    {
     "data": {
      "text/plain": [
       "masked_array(\n",
       "  data=[[-10.01291046,  -9.99967914,  -9.98644715, ...,   1.99162733,\n",
       "           2.00501067,   2.01839366],\n",
       "        [-10.01429114, -10.0010576 ,  -9.98782338, ...,   1.99232191,\n",
       "           2.00570756,   2.01909287],\n",
       "        [-10.01567249, -10.00243672,  -9.98920028, ...,   1.99301684,\n",
       "           2.0064048 ,   2.01979242],\n",
       "        ...,\n",
       "        [-13.00292635, -12.98496742, -12.96700657, ...,   3.50519538,\n",
       "           3.52359931,   3.54200224],\n",
       "        [-13.00597103, -12.98800738, -12.97004181, ...,   3.50674729,\n",
       "           3.52515634,   3.54356439],\n",
       "        [-13.00901764, -12.99104927, -12.97307896, ...,   3.5083002 ,\n",
       "           3.52671438,   3.54512755]],\n",
       "  mask=False,\n",
       "  fill_value=1e+20)"
      ]
     },
     "execution_count": 301,
     "metadata": {},
     "output_type": "execute_result"
    }
   ],
   "source": [
    "ds.variables['longitude'][:]"
   ]
  },
  {
   "cell_type": "code",
   "execution_count": 232,
   "id": "b3ee9469",
   "metadata": {},
   "outputs": [
    {
     "ename": "ValueError",
     "evalue": "object too deep for desired array",
     "output_type": "error",
     "traceback": [
      "\u001b[1;31m---------------------------------------------------------------------------\u001b[0m",
      "\u001b[1;31mValueError\u001b[0m                                Traceback (most recent call last)",
      "\u001b[1;32m~\\AppData\\Local\\Temp/ipykernel_2168/4102529819.py\u001b[0m in \u001b[0;36m<module>\u001b[1;34m\u001b[0m\n\u001b[1;32m----> 1\u001b[1;33m \u001b[0mfind_nearest\u001b[0m\u001b[1;33m(\u001b[0m\u001b[0mds\u001b[0m\u001b[1;33m.\u001b[0m\u001b[0mvariables\u001b[0m\u001b[1;33m[\u001b[0m\u001b[1;34m'longitude'\u001b[0m\u001b[1;33m]\u001b[0m\u001b[1;33m[\u001b[0m\u001b[1;33m:\u001b[0m\u001b[1;33m]\u001b[0m\u001b[1;33m,\u001b[0m \u001b[1;33m-\u001b[0m\u001b[1;36m0.14159\u001b[0m\u001b[1;33m)\u001b[0m\u001b[1;33m\u001b[0m\u001b[1;33m\u001b[0m\u001b[0m\n\u001b[0m",
      "\u001b[1;32m~\\AppData\\Local\\Temp/ipykernel_2168/2982358383.py\u001b[0m in \u001b[0;36mfind_nearest\u001b[1;34m(array, value)\u001b[0m\n\u001b[0;32m      1\u001b[0m \u001b[1;32mdef\u001b[0m \u001b[0mfind_nearest\u001b[0m\u001b[1;33m(\u001b[0m\u001b[0marray\u001b[0m\u001b[1;33m,\u001b[0m\u001b[0mvalue\u001b[0m\u001b[1;33m)\u001b[0m\u001b[1;33m:\u001b[0m\u001b[1;33m\u001b[0m\u001b[1;33m\u001b[0m\u001b[0m\n\u001b[1;32m----> 2\u001b[1;33m     \u001b[0midx\u001b[0m \u001b[1;33m=\u001b[0m \u001b[0mnp\u001b[0m\u001b[1;33m.\u001b[0m\u001b[0msearchsorted\u001b[0m\u001b[1;33m(\u001b[0m\u001b[0marray\u001b[0m\u001b[1;33m,\u001b[0m \u001b[0mvalue\u001b[0m\u001b[1;33m,\u001b[0m \u001b[0mside\u001b[0m\u001b[1;33m=\u001b[0m\u001b[1;34m\"left\"\u001b[0m\u001b[1;33m)\u001b[0m\u001b[1;33m\u001b[0m\u001b[1;33m\u001b[0m\u001b[0m\n\u001b[0m\u001b[0;32m      3\u001b[0m     \u001b[1;32mif\u001b[0m \u001b[0midx\u001b[0m \u001b[1;33m>\u001b[0m \u001b[1;36m0\u001b[0m \u001b[1;32mand\u001b[0m \u001b[1;33m(\u001b[0m\u001b[0midx\u001b[0m \u001b[1;33m==\u001b[0m \u001b[0mlen\u001b[0m\u001b[1;33m(\u001b[0m\u001b[0marray\u001b[0m\u001b[1;33m)\u001b[0m \u001b[1;32mor\u001b[0m \u001b[0mmath\u001b[0m\u001b[1;33m.\u001b[0m\u001b[0mfabs\u001b[0m\u001b[1;33m(\u001b[0m\u001b[0mvalue\u001b[0m \u001b[1;33m-\u001b[0m \u001b[0marray\u001b[0m\u001b[1;33m[\u001b[0m\u001b[0midx\u001b[0m\u001b[1;33m-\u001b[0m\u001b[1;36m1\u001b[0m\u001b[1;33m]\u001b[0m\u001b[1;33m)\u001b[0m \u001b[1;33m<\u001b[0m \u001b[0mmath\u001b[0m\u001b[1;33m.\u001b[0m\u001b[0mfabs\u001b[0m\u001b[1;33m(\u001b[0m\u001b[0mvalue\u001b[0m \u001b[1;33m-\u001b[0m \u001b[0marray\u001b[0m\u001b[1;33m[\u001b[0m\u001b[0midx\u001b[0m\u001b[1;33m]\u001b[0m\u001b[1;33m)\u001b[0m\u001b[1;33m)\u001b[0m\u001b[1;33m:\u001b[0m\u001b[1;33m\u001b[0m\u001b[1;33m\u001b[0m\u001b[0m\n\u001b[0;32m      4\u001b[0m         \u001b[1;32mreturn\u001b[0m \u001b[0marray\u001b[0m\u001b[1;33m[\u001b[0m\u001b[0midx\u001b[0m\u001b[1;33m-\u001b[0m\u001b[1;36m1\u001b[0m\u001b[1;33m]\u001b[0m\u001b[1;33m\u001b[0m\u001b[1;33m\u001b[0m\u001b[0m\n\u001b[0;32m      5\u001b[0m     \u001b[1;32melse\u001b[0m\u001b[1;33m:\u001b[0m\u001b[1;33m\u001b[0m\u001b[1;33m\u001b[0m\u001b[0m\n",
      "\u001b[1;32m<__array_function__ internals>\u001b[0m in \u001b[0;36msearchsorted\u001b[1;34m(*args, **kwargs)\u001b[0m\n",
      "\u001b[1;32mC:\\ProgramData\\Anaconda3\\lib\\site-packages\\numpy\\core\\fromnumeric.py\u001b[0m in \u001b[0;36msearchsorted\u001b[1;34m(a, v, side, sorter)\u001b[0m\n\u001b[0;32m   1346\u001b[0m \u001b[1;33m\u001b[0m\u001b[0m\n\u001b[0;32m   1347\u001b[0m     \"\"\"\n\u001b[1;32m-> 1348\u001b[1;33m     \u001b[1;32mreturn\u001b[0m \u001b[0m_wrapfunc\u001b[0m\u001b[1;33m(\u001b[0m\u001b[0ma\u001b[0m\u001b[1;33m,\u001b[0m \u001b[1;34m'searchsorted'\u001b[0m\u001b[1;33m,\u001b[0m \u001b[0mv\u001b[0m\u001b[1;33m,\u001b[0m \u001b[0mside\u001b[0m\u001b[1;33m=\u001b[0m\u001b[0mside\u001b[0m\u001b[1;33m,\u001b[0m \u001b[0msorter\u001b[0m\u001b[1;33m=\u001b[0m\u001b[0msorter\u001b[0m\u001b[1;33m)\u001b[0m\u001b[1;33m\u001b[0m\u001b[1;33m\u001b[0m\u001b[0m\n\u001b[0m\u001b[0;32m   1349\u001b[0m \u001b[1;33m\u001b[0m\u001b[0m\n\u001b[0;32m   1350\u001b[0m \u001b[1;33m\u001b[0m\u001b[0m\n",
      "\u001b[1;32mC:\\ProgramData\\Anaconda3\\lib\\site-packages\\numpy\\core\\fromnumeric.py\u001b[0m in \u001b[0;36m_wrapfunc\u001b[1;34m(obj, method, *args, **kwds)\u001b[0m\n\u001b[0;32m     56\u001b[0m \u001b[1;33m\u001b[0m\u001b[0m\n\u001b[0;32m     57\u001b[0m     \u001b[1;32mtry\u001b[0m\u001b[1;33m:\u001b[0m\u001b[1;33m\u001b[0m\u001b[1;33m\u001b[0m\u001b[0m\n\u001b[1;32m---> 58\u001b[1;33m         \u001b[1;32mreturn\u001b[0m \u001b[0mbound\u001b[0m\u001b[1;33m(\u001b[0m\u001b[1;33m*\u001b[0m\u001b[0margs\u001b[0m\u001b[1;33m,\u001b[0m \u001b[1;33m**\u001b[0m\u001b[0mkwds\u001b[0m\u001b[1;33m)\u001b[0m\u001b[1;33m\u001b[0m\u001b[1;33m\u001b[0m\u001b[0m\n\u001b[0m\u001b[0;32m     59\u001b[0m     \u001b[1;32mexcept\u001b[0m \u001b[0mTypeError\u001b[0m\u001b[1;33m:\u001b[0m\u001b[1;33m\u001b[0m\u001b[1;33m\u001b[0m\u001b[0m\n\u001b[0;32m     60\u001b[0m         \u001b[1;31m# A TypeError occurs if the object does have such a method in its\u001b[0m\u001b[1;33m\u001b[0m\u001b[1;33m\u001b[0m\u001b[0m\n",
      "\u001b[1;31mValueError\u001b[0m: object too deep for desired array"
     ]
    }
   ],
   "source": [
    "find_nearest(ds.variables['longitude'][:], -0.14159)"
   ]
  },
  {
   "cell_type": "code",
   "execution_count": null,
   "id": "4f862f34",
   "metadata": {},
   "outputs": [],
   "source": []
  },
  {
   "cell_type": "code",
   "execution_count": 228,
   "id": "71a475cc",
   "metadata": {},
   "outputs": [
    {
     "data": {
      "text/plain": [
       "<module 'pandas.tseries.offsets' from 'C:\\\\ProgramData\\\\Anaconda3\\\\lib\\\\site-packages\\\\pandas\\\\tseries\\\\offsets.py'>"
      ]
     },
     "execution_count": 228,
     "metadata": {},
     "output_type": "execute_result"
    }
   ],
   "source": [
    "pd.tseries.offsets"
   ]
  },
  {
   "cell_type": "code",
   "execution_count": 210,
   "id": "68309f35",
   "metadata": {},
   "outputs": [
    {
     "data": {
      "text/plain": [
       "masked_array(\n",
       "  data=[[-4.88524615, -4.87080337, -4.8563603 , -4.84191693, -4.82747327],\n",
       "        [-4.88581728, -4.87137165, -4.85692573, -4.84247951, -4.828033  ],\n",
       "        [-4.88638871, -4.87194023, -4.85749146, -4.84304239, -4.82859303],\n",
       "        [-4.88696044, -4.87250911, -4.85805748, -4.84360556, -4.82915335],\n",
       "        [-4.88753247, -4.87307828, -4.8586238 , -4.84416902, -4.82971396]],\n",
       "  mask=False,\n",
       "  fill_value=1e+20)"
      ]
     },
     "execution_count": 210,
     "metadata": {},
     "output_type": "execute_result"
    }
   ],
   "source": [
    "ds.variables['longitude'][:][400:405, 400:405]"
   ]
  },
  {
   "cell_type": "code",
   "execution_count": null,
   "id": "80c54c6e",
   "metadata": {},
   "outputs": [],
   "source": []
  },
  {
   "cell_type": "code",
   "execution_count": 197,
   "id": "4f07512c",
   "metadata": {},
   "outputs": [
    {
     "data": {
      "text/plain": [
       "{'sfcWind': <class 'netCDF4._netCDF4.Variable'>\n",
       " float64 sfcWind(time, projection_y_coordinate, projection_x_coordinate)\n",
       "     _FillValue: 1e+20\n",
       "     standard_name: wind_speed\n",
       "     long_name: Wind speed at 10m\n",
       "     units: m s-1\n",
       "     description: Wind speed\n",
       "     label_units: m s-1\n",
       "     level: 10m\n",
       "     plot_label: Wind speed at 10m (m s-1)\n",
       "     cell_methods: time: mean time: mean\n",
       "     grid_mapping: transverse_mercator\n",
       "     coordinates: latitude longitude\n",
       " unlimited dimensions: \n",
       " current shape = (1, 1450, 900)\n",
       " filling on,\n",
       " 'transverse_mercator': <class 'netCDF4._netCDF4.Variable'>\n",
       " int32 transverse_mercator()\n",
       "     grid_mapping_name: transverse_mercator\n",
       "     longitude_of_prime_meridian: 0.0\n",
       "     semi_major_axis: 6377563.396\n",
       "     semi_minor_axis: 6356256.909\n",
       "     longitude_of_central_meridian: -2.0\n",
       "     latitude_of_projection_origin: 49.0\n",
       "     false_easting: 400000.0\n",
       "     false_northing: -100000.0\n",
       "     scale_factor_at_central_meridian: 0.9996012717\n",
       " unlimited dimensions: \n",
       " current shape = ()\n",
       " filling on, default _FillValue of -2147483647 used,\n",
       " 'time': <class 'netCDF4._netCDF4.Variable'>\n",
       " float64 time(time)\n",
       "     axis: T\n",
       "     bounds: time_bnds\n",
       "     units: hours since 1800-01-01 00:00:00\n",
       "     standard_name: time\n",
       "     calendar: gregorian\n",
       " unlimited dimensions: \n",
       " current shape = (1,)\n",
       " filling on, default _FillValue of 9.969209968386869e+36 used,\n",
       " 'time_bnds': <class 'netCDF4._netCDF4.Variable'>\n",
       " float64 time_bnds(time, bnds)\n",
       " unlimited dimensions: \n",
       " current shape = (1, 2)\n",
       " filling on, default _FillValue of 9.969209968386869e+36 used,\n",
       " 'projection_y_coordinate': <class 'netCDF4._netCDF4.Variable'>\n",
       " float64 projection_y_coordinate(projection_y_coordinate)\n",
       "     axis: Y\n",
       "     bounds: projection_y_coordinate_bnds\n",
       "     units: m\n",
       "     standard_name: projection_y_coordinate\n",
       " unlimited dimensions: \n",
       " current shape = (1450,)\n",
       " filling on, default _FillValue of 9.969209968386869e+36 used,\n",
       " 'projection_y_coordinate_bnds': <class 'netCDF4._netCDF4.Variable'>\n",
       " float64 projection_y_coordinate_bnds(projection_y_coordinate, bnds)\n",
       " unlimited dimensions: \n",
       " current shape = (1450, 2)\n",
       " filling on, default _FillValue of 9.969209968386869e+36 used,\n",
       " 'projection_x_coordinate': <class 'netCDF4._netCDF4.Variable'>\n",
       " float64 projection_x_coordinate(projection_x_coordinate)\n",
       "     axis: X\n",
       "     bounds: projection_x_coordinate_bnds\n",
       "     units: m\n",
       "     standard_name: projection_x_coordinate\n",
       " unlimited dimensions: \n",
       " current shape = (900,)\n",
       " filling on, default _FillValue of 9.969209968386869e+36 used,\n",
       " 'projection_x_coordinate_bnds': <class 'netCDF4._netCDF4.Variable'>\n",
       " float64 projection_x_coordinate_bnds(projection_x_coordinate, bnds)\n",
       " unlimited dimensions: \n",
       " current shape = (900, 2)\n",
       " filling on, default _FillValue of 9.969209968386869e+36 used,\n",
       " 'latitude': <class 'netCDF4._netCDF4.Variable'>\n",
       " float64 latitude(projection_y_coordinate, projection_x_coordinate)\n",
       "     units: degrees_north\n",
       "     standard_name: latitude\n",
       " unlimited dimensions: \n",
       " current shape = (1450, 900)\n",
       " filling on, default _FillValue of 9.969209968386869e+36 used,\n",
       " 'longitude': <class 'netCDF4._netCDF4.Variable'>\n",
       " float64 longitude(projection_y_coordinate, projection_x_coordinate)\n",
       "     units: degrees_east\n",
       "     standard_name: longitude\n",
       " unlimited dimensions: \n",
       " current shape = (1450, 900)\n",
       " filling on, default _FillValue of 9.969209968386869e+36 used}"
      ]
     },
     "execution_count": 197,
     "metadata": {},
     "output_type": "execute_result"
    }
   ],
   "source": [
    "ds.variables"
   ]
  },
  {
   "cell_type": "code",
   "execution_count": 196,
   "id": "19d674e2",
   "metadata": {},
   "outputs": [
    {
     "data": {
      "text/plain": [
       "masked_array(\n",
       "  data=[[47.82437686, 47.82530568, 47.82623299, ..., 48.03540431,\n",
       "         48.0349378 , 48.03446974],\n",
       "        [47.83328709, 47.83421619, 47.83514379, ..., 48.04438033,\n",
       "         48.04391368, 48.04344547],\n",
       "        [47.84219727, 47.84312667, 47.84405455, ..., 48.05335634,\n",
       "         48.05288954, 48.05242118],\n",
       "        ...,\n",
       "        [60.6577134 , 60.65920612, 60.66069645, ..., 60.99795737,\n",
       "         60.99720274, 60.99644561],\n",
       "        [60.66652742, 60.66802068, 60.66951154, ..., 61.00689465,\n",
       "         61.00613976, 61.00538235],\n",
       "        [60.67534134, 60.67683513, 60.67832653, ..., 61.01583191,\n",
       "         61.01507673, 61.01431905]],\n",
       "  mask=False,\n",
       "  fill_value=1e+20)"
      ]
     },
     "execution_count": 196,
     "metadata": {},
     "output_type": "execute_result"
    }
   ],
   "source": [
    "ds['latitude'][:]"
   ]
  },
  {
   "cell_type": "code",
   "execution_count": null,
   "id": "7fa14345",
   "metadata": {},
   "outputs": [],
   "source": []
  }
 ],
 "metadata": {
  "kernelspec": {
   "display_name": "Python 3 (ipykernel)",
   "language": "python",
   "name": "python3"
  },
  "language_info": {
   "codemirror_mode": {
    "name": "ipython",
    "version": 3
   },
   "file_extension": ".py",
   "mimetype": "text/x-python",
   "name": "python",
   "nbconvert_exporter": "python",
   "pygments_lexer": "ipython3",
   "version": "3.9.7"
  }
 },
 "nbformat": 4,
 "nbformat_minor": 5
}
