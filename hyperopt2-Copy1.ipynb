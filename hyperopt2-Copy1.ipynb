{
 "cells": [
  {
   "cell_type": "code",
   "execution_count": 3,
   "metadata": {},
   "outputs": [],
   "source": [
    "import numpy as np\n",
    "import pandas as pd\n",
    "# import pyspark"
   ]
  },
  {
   "cell_type": "code",
   "execution_count": 4,
   "metadata": {},
   "outputs": [],
   "source": [
    "from sklearn.model_selection import cross_validate"
   ]
  },
  {
   "cell_type": "code",
   "execution_count": 239,
   "metadata": {},
   "outputs": [],
   "source": [
    "from hyperopt import fmin, hp, tpe\n",
    "from hyperopt import Trials, STATUS_OK#, SparkTrials"
   ]
  },
  {
   "cell_type": "code",
   "execution_count": 6,
   "metadata": {},
   "outputs": [],
   "source": [
    "from functools import partial"
   ]
  },
  {
   "cell_type": "code",
   "execution_count": 7,
   "metadata": {},
   "outputs": [],
   "source": [
    "import lightgbm as lgbm"
   ]
  },
  {
   "cell_type": "code",
   "execution_count": 256,
   "metadata": {},
   "outputs": [],
   "source": [
    "def objective(params, clf, presets):\n",
    "    cv = cross_validate(clf.set_params(**{**params,**presets}), X_train, y_train, cv=3, scoring='roc_auc',\n",
    "                        n_jobs=-1,\n",
    "                        return_train_score=True, return_estimator=False)\n",
    "    \n",
    "    train_gini = np.mean((2*cv['train_score'] - 1))\n",
    "    test_gini = np.mean((2*cv['test_score'] - 1))\n",
    "    \n",
    "    x = np.abs(train_gini - test_gini) \n",
    "    \n",
    "    delta, std = 0.03, 0.002\n",
    "    f_val = -np.piecewise(x, [x < delta, x >= delta], [train_gini, train_gini*(np.exp(-0.5*((x-delta)**2)/std))])\n",
    "    return {'loss': -f_val, 'status': STATUS_OK}"
   ]
  },
  {
   "cell_type": "code",
   "execution_count": 257,
   "metadata": {},
   "outputs": [],
   "source": [
    "presets = {\n",
    "        'class_weight': None\n",
    "}\n",
    "\n",
    "space = {\n",
    "    'learning_rate' : hp.loguniform('learning_rate', np.log(0.001), np.log(0.2)),\n",
    "    'num_leaves': hp.quniform('num_leaves', 8, 128, 2),\n",
    "    'colsample_bytree': hp.uniform('colsample_bytree', 0.3, 1.0)\n",
    "}\n",
    "assert ~bool(set(presets.keys()) & set(space.keys()))"
   ]
  },
  {
   "cell_type": "code",
   "execution_count": 258,
   "metadata": {},
   "outputs": [],
   "source": [
    "fmin_objective = partial(objective, clf = lgbm.LGBMModel(), presets = presets)"
   ]
  },
  {
   "cell_type": "code",
   "execution_count": 259,
   "metadata": {},
   "outputs": [],
   "source": [
    "X_train = X_original\n",
    "y_train = y_original"
   ]
  },
  {
   "cell_type": "code",
   "execution_count": 260,
   "metadata": {},
   "outputs": [
    {
     "name": "stdout",
     "output_type": "stream",
     "text": [
      "100%|██████████| 32/32 [00:01<00:00, 24.66trial/s, best loss: 0.0] \n"
     ]
    }
   ],
   "source": [
    "# spark_trials = SparkTrials()\n",
    "trials = Trials()\n",
    "h_star = fmin(\n",
    "            fn = fmin_objective,\n",
    "            algo = tpe.suggest,\n",
    "            space = space,\n",
    "            max_evals=32,\n",
    "            trials = trials\n",
    "#             trials=spark_trials,\n",
    "            )"
   ]
  },
  {
   "cell_type": "code",
   "execution_count": 261,
   "metadata": {},
   "outputs": [
    {
     "data": {
      "text/plain": [
       "{'colsample_bytree': 0.40311563372206266,\n",
       " 'learning_rate': 0.0028714316087491,\n",
       " 'num_leaves': 120.0}"
      ]
     },
     "execution_count": 261,
     "metadata": {},
     "output_type": "execute_result"
    }
   ],
   "source": [
    "h_star"
   ]
  },
  {
   "cell_type": "code",
   "execution_count": 272,
   "metadata": {},
   "outputs": [
    {
     "name": "stdout",
     "output_type": "stream",
     "text": [
      "Pretty printing has been turned ON\n"
     ]
    }
   ],
   "source": [
    "# print(trials.losses())\n",
    "# print(trials.statuses())"
   ]
  },
  {
   "cell_type": "code",
   "execution_count": 1,
   "metadata": {},
   "outputs": [],
   "source": [
    "# trials.trials"
   ]
  },
  {
   "cell_type": "code",
   "execution_count": null,
   "metadata": {},
   "outputs": [],
   "source": []
  }
 ],
 "metadata": {
  "kernelspec": {
   "display_name": "Python 3",
   "language": "python",
   "name": "python3"
  },
  "language_info": {
   "codemirror_mode": {
    "name": "ipython",
    "version": 3
   },
   "file_extension": ".py",
   "mimetype": "text/x-python",
   "name": "python",
   "nbconvert_exporter": "python",
   "pygments_lexer": "ipython3",
   "version": "3.7.6"
  },
  "toc": {
   "base_numbering": 1,
   "nav_menu": {},
   "number_sections": true,
   "sideBar": true,
   "skip_h1_title": false,
   "title_cell": "Table of Contents",
   "title_sidebar": "Contents",
   "toc_cell": false,
   "toc_position": {},
   "toc_section_display": true,
   "toc_window_display": false
  },
  "varInspector": {
   "cols": {
    "lenName": 16,
    "lenType": 16,
    "lenVar": 40
   },
   "kernels_config": {
    "python": {
     "delete_cmd_postfix": "",
     "delete_cmd_prefix": "del ",
     "library": "var_list.py",
     "varRefreshCmd": "print(var_dic_list())"
    },
    "r": {
     "delete_cmd_postfix": ") ",
     "delete_cmd_prefix": "rm(",
     "library": "var_list.r",
     "varRefreshCmd": "cat(var_dic_list()) "
    }
   },
   "types_to_exclude": [
    "module",
    "function",
    "builtin_function_or_method",
    "instance",
    "_Feature"
   ],
   "window_display": false
  }
 },
 "nbformat": 4,
 "nbformat_minor": 4
}
