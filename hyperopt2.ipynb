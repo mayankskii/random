{
 "cells": [
  {
   "cell_type": "code",
   "execution_count": 1,
   "metadata": {},
   "outputs": [],
   "source": [
    "import numpy as np\n",
    "import pandas as pd\n",
    "import pyspark"
   ]
  },
  {
   "cell_type": "code",
   "execution_count": 2,
   "metadata": {},
   "outputs": [],
   "source": [
    "from hyperopt import fmin, hp, tpe\n",
    "from hyperopt import SparkTrials, STATUS_OK"
   ]
  },
  {
   "cell_type": "code",
   "execution_count": null,
   "metadata": {},
   "outputs": [],
   "source": [
    "import lgbm"
   ]
  },
  {
   "cell_type": "code",
   "execution_count": null,
   "metadata": {},
   "outputs": [],
   "source": [
    "def lgb_optimise(data, constant_params, search_params):\n",
    "    \"\"\"\n",
    "    This is our main training function which we pass to Hyperopt.\n",
    "    It takes in hyperparameter settings, fits a model based on those settings,\n",
    "    evaluates the model, and returns the loss.\n",
    "\n",
    "    :param params: map specifying the hyperparameter settings to test\n",
    "    :return: loss for the fitted model\n",
    "    \"\"\"\n",
    "    clf = \n",
    "  # We will tune 2 hyperparameters:\n",
    "  #  regularization and the penalty type (L1 vs L2).\n",
    "    regParam = float(params['regParam'])\n",
    "    penalty = params['penalty']\n",
    "\n",
    "  # Turn up tolerance for faster convergence\n",
    "    clf = LogisticRegression(C=1.0 / regParam,\n",
    "                           multi_class='multinomial',\n",
    "                           penalty=penalty, solver='saga', tol=0.1)\n",
    "    clf.fit(X_train, y_train)\n",
    "    score = clf.score(X_test, y_test)\n",
    "\n",
    "    return {'loss': -score, 'status': STATUS_OK}"
   ]
  },
  {
   "cell_type": "code",
   "execution_count": null,
   "metadata": {},
   "outputs": [],
   "source": [
    "# Next, define a search space for Hyperopt.\n",
    "search_space = {\n",
    "  'penalty': hp.choice('penalty', ['l1', 'l2']),\n",
    "  'regParam': hp.loguniform('regParam', -10.0, 0),\n",
    "}\n",
    "\n",
    "# Select a search algorithm for Hyperopt to use.\n",
    "algo=tpe.suggest  # Tree of Parzen Estimators, a Bayesian method"
   ]
  },
  {
   "cell_type": "code",
   "execution_count": null,
   "metadata": {},
   "outputs": [],
   "source": [
    "spark_trials = SparkTrials()"
   ]
  },
  {
   "cell_type": "code",
   "execution_count": null,
   "metadata": {},
   "outputs": [],
   "source": [
    "opt_hyperparams = fmin(\n",
    "  fn=train,\n",
    "  space=search_space,\n",
    "  algo=algo,\n",
    "  trials=spark_trials,\n",
    "  max_evals=32)\n",
    "best_hyperparameters"
   ]
  }
 ],
 "metadata": {
  "kernelspec": {
   "display_name": "Python 3",
   "language": "python",
   "name": "python3"
  },
  "language_info": {
   "codemirror_mode": {
    "name": "ipython",
    "version": 3
   },
   "file_extension": ".py",
   "mimetype": "text/x-python",
   "name": "python",
   "nbconvert_exporter": "python",
   "pygments_lexer": "ipython3",
   "version": "3.7.6"
  },
  "toc": {
   "base_numbering": 1,
   "nav_menu": {},
   "number_sections": true,
   "sideBar": true,
   "skip_h1_title": false,
   "title_cell": "Table of Contents",
   "title_sidebar": "Contents",
   "toc_cell": false,
   "toc_position": {},
   "toc_section_display": true,
   "toc_window_display": false
  },
  "varInspector": {
   "cols": {
    "lenName": 16,
    "lenType": 16,
    "lenVar": 40
   },
   "kernels_config": {
    "python": {
     "delete_cmd_postfix": "",
     "delete_cmd_prefix": "del ",
     "library": "var_list.py",
     "varRefreshCmd": "print(var_dic_list())"
    },
    "r": {
     "delete_cmd_postfix": ") ",
     "delete_cmd_prefix": "rm(",
     "library": "var_list.r",
     "varRefreshCmd": "cat(var_dic_list()) "
    }
   },
   "types_to_exclude": [
    "module",
    "function",
    "builtin_function_or_method",
    "instance",
    "_Feature"
   ],
   "window_display": false
  }
 },
 "nbformat": 4,
 "nbformat_minor": 4
}
